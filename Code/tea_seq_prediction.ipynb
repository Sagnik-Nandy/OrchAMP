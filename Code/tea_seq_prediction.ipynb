{
 "cells": [
  {
   "cell_type": "code",
   "execution_count": 24,
   "metadata": {},
   "outputs": [],
   "source": [
    "import sys\n",
    "from abc import ABC, abstractmethod\n",
    "import warnings\n",
    "import numpy as np\n",
    "from scipy import optimize\n",
    "import matplotlib as mpl\n",
    "from matplotlib import rcParams\n",
    "import matplotlib.pyplot as plt\n",
    "import scipy as sp\n",
    "from scipy.stats import multivariate_normal\n",
    "import scanpy as scp\n",
    "from sklearn.neighbors import NearestNeighbors\n",
    "from sklearn.mixture import GaussianMixture\n",
    "import random\n",
    "import operator\n",
    "import statsmodels.api as sm\n",
    "\n",
    "\n",
    "import pandas as pd\n",
    "import harmonypy as hm\n",
    "from time import time\n",
    "import seaborn as sns\n",
    "import string\n",
    "\n",
    "from sklearn.datasets import make_blobs\n",
    "from sklearn.cluster import KMeans\n",
    "from sklearn.metrics import silhouette_score\n",
    "from sklearn.metrics import pairwise_distances_argmin_min\n",
    "from sklearn.preprocessing import StandardScaler\n",
    "from econml.sklearn_extensions.linear_model import DebiasedLasso as dbl\n",
    "\n",
    "from scipy.io import mmread\n",
    "from scipy.sparse.linalg import svds\n",
    "from sklearn.utils.extmath import randomized_svd\n",
    "import umap.umap_ as umap\n",
    "from itertools import permutations\n",
    "\n",
    "import rpy2.rinterface_lib.callbacks\n",
    "import logging\n",
    "\n",
    "from rpy2.robjects.packages import importr\n",
    "base = importr('base')\n",
    "utils = importr('utils')\n",
    "Matrix = importr('Matrix')\n",
    "# seurat = importr('Seurat')\n",
    "stats = importr('stats')\n",
    "\n",
    "warnings.filterwarnings('ignore', category=DeprecationWarning) "
   ]
  },
  {
   "cell_type": "code",
   "execution_count": 25,
   "metadata": {},
   "outputs": [
    {
     "data": {
      "image/png": "[encoded data removed]",
      "text/plain": [
       "<Figure size 1100x100 with 1 Axes>"
      ]
     },
     "metadata": {},
     "output_type": "display_data"
    }
   ],
   "source": [
    "my_favourote_palette = ['#C0C0C0','#0000FF','#800080','#FFC0CB','#00FFFF','#FF0000','#00827F','#4B5320','#C04000','#F67280','#FF77FF']\n",
    "sns.palplot(sns.color_palette(my_favourote_palette))\n",
    "customPalette = sns.set_palette(sns.color_palette(my_favourote_palette))"
   ]
  },
  {
   "cell_type": "markdown",
   "metadata": {},
   "source": [
    "### Utils Function"
   ]
  },
  {
   "cell_type": "markdown",
   "metadata": {},
   "source": [
    "In this section we define the functions needed for pre-processing the data."
   ]
  },
  {
   "cell_type": "code",
   "execution_count": 26,
   "metadata": {},
   "outputs": [],
   "source": [
    "def machineEpsilon(func=float):\n",
    "    machine_epsilon = func(1)\n",
    "    while func(1)+func(machine_epsilon) != func(1):\n",
    "        machine_epsilon_last = machine_epsilon\n",
    "        machine_epsilon = func(machine_epsilon) / func(2)\n",
    "    return machine_epsilon_last"
   ]
  },
  {
   "cell_type": "code",
   "execution_count": 27,
   "metadata": {},
   "outputs": [],
   "source": [
    "# Creates a UMAP visualization of high dimensional data\n",
    "## Input: Feature set, labels, colors of clusters\n",
    "## Output: UMAP plot\n",
    "\n",
    "def umap_visualize(arr, labels, palette=\"hls\"):\n",
    "    u = umap.UMAP().fit_transform(\n",
    "        arr\n",
    "    )\n",
    "    umap_data = pd.DataFrame({'u0': u[:, 0], 'u1': u[:, 1], 'label': labels})\n",
    "    sns.scatterplot(data=umap_data, x='u0', y='u1', hue='label', palette=palette)\n",
    "    plt.legend(bbox_to_anchor=(1.05, 1), loc='upper left', borderaxespad=0)"
   ]
  },
  {
   "cell_type": "code",
   "execution_count": 31,
   "metadata": {},
   "outputs": [],
   "source": [
    "# Divides a row by its sum and sclaes it to a reference value\n",
    "## Input: Frow to be sclaed, reference value\n",
    "## Output: scaled row\n",
    "\n",
    "def normalize_vector(v, scale_factor):\n",
    "    return (v / np.sum(v)) * scale_factor"
   ]
  },
  {
   "cell_type": "code",
   "execution_count": 32,
   "metadata": {},
   "outputs": [],
   "source": [
    "# Normalizes given cell by features matrix to remove sequencing depth irregularities\n",
    "## Input: Matrix to be normalized and scaled\n",
    "## Output: Normalized matrix\n",
    "\n",
    "def normalize_data_matrix(A, scale_factor):\n",
    "    A_temp = np.apply_along_axis(np.log1p, 1, A)\n",
    "    A_temp = np.apply_along_axis(normalize_vector, 1, A_temp, scale_factor)  \n",
    "    return A_temp"
   ]
  },
  {
   "cell_type": "code",
   "execution_count": 33,
   "metadata": {},
   "outputs": [],
   "source": [
    "### Corrects Singular Values\n",
    "\n",
    "def _convert_singular_val(y, gamma):\n",
    "    t = (gamma * y ** 2 - (1 + gamma) + np.sqrt((gamma * y ** 2 - (1 + gamma)) ** 2 - 4 * gamma))/ (2 * gamma)\n",
    "    return np.sqrt(t)"
   ]
  },
  {
   "cell_type": "code",
   "execution_count": 34,
   "metadata": {},
   "outputs": [],
   "source": [
    "# Computes density of the square root of Marcenko Pastur Law\n",
    "\n",
    "def sqrtmplaw(x, n_samples = 0, n_features = 0):\n",
    "    '''we require the noise variance to be 1/n_samples\n",
    "    '''\n",
    "    aspect_ratio = n_features/n_samples\n",
    "    lambda_plus = (1+np.sqrt(aspect_ratio))**2\n",
    "    lambda_minus = (1 - np.sqrt(aspect_ratio))**2\n",
    "    if x < lambda_minus or x > lambda_plus:\n",
    "        return 0\n",
    "    else: \n",
    "        return 1/(np.pi * aspect_ratio * x) * np.sqrt((lambda_plus - x)*(x - lambda_minus))\n",
    "\n",
    "def sqrtMPlaw(arr, n, p):\n",
    "    return [sqrtmplaw(x, n, p) for x in arr]"
   ]
  },
  {
   "cell_type": "code",
   "execution_count": 35,
   "metadata": {},
   "outputs": [],
   "source": [
    "# Computes closest positive definite matrix to a given matrix\n",
    "\n",
    "def nearPSD(A,epsilon=0):\n",
    "   n = A.shape[0]\n",
    "   eigval, eigvec = np.linalg.eig(A)\n",
    "   val = np.matrix(np.maximum(eigval,1e-4))\n",
    "   vec = np.matrix(eigvec)\n",
    "   T = 1/(np.multiply(vec,vec) * val.T)\n",
    "   T = np.matrix(np.sqrt(np.diag(np.array(T).reshape((n)) )))\n",
    "   B = T * vec * np.diag(np.array(np.sqrt(val)).reshape((n)))\n",
    "   out = B*B.T\n",
    "   return(out)"
   ]
  },
  {
   "cell_type": "code",
   "execution_count": 36,
   "metadata": {},
   "outputs": [],
   "source": [
    "\n",
    "def invreg(original_matrix, epsilon=1e-3):\n",
    "    \"\"\"\n",
    "    Invert a matrix with regularization to avoid singularity.\n",
    "\n",
    "    Parameters:\n",
    "    - original_matrix: Input matrix to be inverted.\n",
    "    - epsilon: Small value for regularization.\n",
    "\n",
    "    Returns:\n",
    "    - inverted_matrix: Inverted matrix.\n",
    "    \"\"\"\n",
    "\n",
    "    # Adding a small diagonal matrix to avoid singularity\n",
    "    diagonal_matrix = epsilon * np.eye(original_matrix.shape[0])\n",
    "    regularized_matrix = original_matrix + diagonal_matrix\n",
    "\n",
    "    # Invert the regularized matrix\n",
    "    inverted_matrix = np.linalg.inv(regularized_matrix)\n",
    "\n",
    "    return inverted_matrix"
   ]
  },
  {
   "cell_type": "code",
   "execution_count": 37,
   "metadata": {},
   "outputs": [],
   "source": [
    "def replace_zeros_with_small_number(array, small_number=1e-30):\n",
    "    \"\"\"\n",
    "    Replace zero values in a NumPy array with a very small number.\n",
    "\n",
    "    Parameters:\n",
    "    - array: NumPy array.\n",
    "    - small_number: The small number to replace zero values with. Default is 1e-10.\n",
    "\n",
    "    Returns:\n",
    "    - Modified NumPy array with zero values replaced.\n",
    "    \"\"\"\n",
    "    array[array == 0] = small_number\n",
    "    return array"
   ]
  },
  {
   "cell_type": "markdown",
   "metadata": {},
   "source": [
    "### OrchAMP functions for Atlas Building"
   ]
  },
  {
   "cell_type": "markdown",
   "metadata": {},
   "source": [
    "The functions defined below are used to construct OrchAMP atlas from the training data using Algorithm 1 of the paper"
   ]
  },
  {
   "cell_type": "code",
   "execution_count": 38,
   "metadata": {},
   "outputs": [],
   "source": [
    "def fit_gmm(data, n_components, M, D, seed):\n",
    "    \"\"\"\n",
    "    Fits Gaussian Model defined in the paper using diagonal covariances.\n",
    "\n",
    "    Parameters:\n",
    "    - data: the dataset\n",
    "    - n_components: number of clusters\n",
    "    - M: A numpy array specifying the matrices S\n",
    "    - D: A numpy array specify the matrices Sigma\n",
    "    - seed: seed to intiate the algorithm\n",
    "\n",
    "    Returns:\n",
    "    - array of fitted means, covariances, and mixing proprtions\n",
    "    \"\"\"\n",
    "    current_state = random.getstate()\n",
    "    n_features = data.shape[1]\n",
    "    inv_m = np.linalg.inv(M)\n",
    "    gmm = GaussianMixture(n_components=n_components, random_state=seed)\n",
    "    gmm.fit(data)\n",
    "    means_unadjusted = gmm.means_\n",
    "    means = means_unadjusted @ np.linalg.inv(M)\n",
    "    adjusted_covariances = gmm.covariances_- D\n",
    "    #covariances = np.array([nearPSD(inv_m @ cov @ inv_m.T) for cov in adjusted_covariances])\n",
    "    traces = np.array([np.trace(cov_matrix) for cov_matrix in adjusted_covariances])\n",
    "    positive_traces = np.maximum(traces, 0)\n",
    "    adj_cov_factor = np.trace(M @ M.T)\n",
    "    covariances_cons = positive_traces / adj_cov_factor\n",
    "    covariances = np.array([cov * np.eye(n_features) for cov in covariances_cons])\n",
    "    random.setstate(current_state)\n",
    "    return means, covariances, gmm.weights_"
   ]
  },
  {
   "cell_type": "code",
   "execution_count": 39,
   "metadata": {},
   "outputs": [],
   "source": [
    "def _get_W_gmm(data, m_prior, cov_prior, M, D, weights):\n",
    "\n",
    "    \"\"\"\n",
    "    Posterior mixing proportions of the fitted gmm\n",
    "    \n",
    "    Parameters:\n",
    "    - data: the dataset\n",
    "    - m_prior: prior component means \n",
    "    - cov_prior: prior component covariances\n",
    "    - M: The matrices 'S' mentioned in the paper \n",
    "    - D: The matrices 'Sigma' mentioned in the paper\n",
    "    - weights: prior weights\n",
    "\n",
    "    Returns:\n",
    "    - posterior mixing proportions\n",
    "    \"\"\"\n",
    "\n",
    "\n",
    "    num_components = len(weights)\n",
    "    num_subjects = data.shape[0]\n",
    "    responsibilities = np.zeros((num_components, num_subjects))\n",
    "    \n",
    "    # Convert the modality specific loadings to combined block diagonal matrices\n",
    "    M_bd = sp.linalg.block_diag(*M)\n",
    "    sigma_bd = sp.linalg.block_diag(*D)\n",
    "    \n",
    "    for components in range(num_components):\n",
    "        mz = m_prior[components,:] @ M_bd.T\n",
    "        matrix_to_cov = sigma_bd + M_bd @ cov_prior[components] @ M_bd.T\n",
    "        covInv = np.linalg.inv(matrix_to_cov)\n",
    "        \n",
    "        fsq = (np.einsum(\"ik,ik -> i\", data @ covInv, data) / 2)[:,np.newaxis]\n",
    "        zsq = (mz.T @ covInv @ mz) / 2\n",
    "        fz = np.array(data @ covInv @ mz)[:,np.newaxis]\n",
    "        \n",
    "        unscaled_weights = np.array(np.exp(np.clip(- fsq + fz - zsq,-700,700))).T\n",
    "        del mz\n",
    "         \n",
    "        responsibilities[components,:] = weights[components] * unscaled_weights\n",
    "    \n",
    "    \n",
    "    responsibilities = replace_zeros_with_small_number(responsibilities.T)\n",
    "    \n",
    "    total_responsibilities = np.log(np.sum(responsibilities, axis=1, keepdims = True))\n",
    "    total_responsibilities[np.isneginf(total_responsibilities)] = -700\n",
    "     \n",
    "    responsibilities = np.log(responsibilities)\n",
    "    responsibilities[np.isneginf(responsibilities)] = -700\n",
    "\n",
    "    responsibilities = responsibilities - total_responsibilities\n",
    "      \n",
    "    return(np.exp(responsibilities))"
   ]
  },
  {
   "cell_type": "code",
   "execution_count": 40,
   "metadata": {},
   "outputs": [],
   "source": [
    "def denoise_gmm(data, m_prior, cov_prior, M, D, weights): \n",
    "\n",
    "    \"\"\"\n",
    "    Denoise the updates using posterior mean from fitted gmm\n",
    "    \n",
    "    Parameters:\n",
    "    - data: the dataset\n",
    "    - m_prior: prior component means \n",
    "    - cov_prior: prior component covariances\n",
    "    - M: The matrices 'S' mentioned in the paper \n",
    "    - D: The matrices 'Sigma' mentioned in the paper\n",
    "    - weights: prior weights\n",
    "\n",
    "    Returns:\n",
    "    - denoised embeddings\n",
    "    \"\"\"\n",
    "    \n",
    "    num_components = len(weights)\n",
    "    num_samples, num_features = data.shape\n",
    "    \n",
    "    # Iteratively compute and average component posterior means\n",
    "\n",
    "    P = _get_W_gmm(data, m_prior, cov_prior, M, D, weights)\n",
    "\n",
    "    M = sp.linalg.block_diag(*M)\n",
    "    D = sp.linalg.block_diag(*D)\n",
    "\n",
    "\n",
    "    result = np.zeros((num_samples, num_features))\n",
    "    inv_D = np.linalg.inv(D)\n",
    "    inv_cov_prior = np.array([np.linalg.pinv(cov_matrix) for cov_matrix in cov_prior])\n",
    "\n",
    "    \n",
    "    for comp in range(num_components):\n",
    "\n",
    "        adj_scaling = np.linalg.inv(M.T @ inv_D @ M + inv_cov_prior[comp])\n",
    "        denoised_part_data = data @ inv_D.T @ M @ adj_scaling.T\n",
    "        denoised_part_prior = m_prior[comp,:] @ inv_cov_prior[comp].T @ adj_scaling.T\n",
    "        weights_to_mult = P[:,comp]\n",
    "        denoised_whole = denoised_part_data + denoised_part_prior\n",
    "        denoised_whole = denoised_whole *  weights_to_mult[:,np.newaxis]\n",
    "        result = result + denoised_whole\n",
    "        \n",
    "    return result"
   ]
  },
  {
   "cell_type": "code",
   "execution_count": 41,
   "metadata": {},
   "outputs": [],
   "source": [
    "def ddenoise_gmm(data, m_prior, cov_prior, M, D, weights):\n",
    "\n",
    "    \"\"\"\n",
    "    Derivatives of the denoisers\n",
    "    \n",
    "    Parameters:\n",
    "    - data: the dataset\n",
    "    - m_prior: prior component means \n",
    "    - cov_prior: prior component covariances\n",
    "    - M: The matrices 'S' mentioned in the paper \n",
    "    - D: The matrices 'Sigma' mentioned in the paper\n",
    "    - weights: prior weights\n",
    "\n",
    "    Returns:\n",
    "    - Jacobian of the denoiser defined above\n",
    "    \"\"\"\n",
    "\n",
    "    num_components = len(weights)\n",
    "    num_samples, num_features = data.shape\n",
    "    \n",
    "    # Iteratively compute and average component posterior means\n",
    "    \n",
    "    P = _get_W_gmm(data, m_prior, cov_prior, M, D, weights)\n",
    "\n",
    "    M = sp.linalg.block_diag(*M)\n",
    "    D = sp.linalg.block_diag(*D)\n",
    "    \n",
    "    result_1 = np.zeros((num_samples, num_features, num_features))\n",
    "    \n",
    "    matrix_1 = np.zeros((num_components, num_samples, num_features))\n",
    "    matrix_2 = np.zeros((num_components, num_samples, num_features))\n",
    "    matrix_3 = np.zeros((num_components, num_features, num_features))\n",
    "\n",
    "    inv_D = np.linalg.inv(D)\n",
    "    inv_cov_prior = np.array([np.linalg.pinv(cov_matrix) for cov_matrix in cov_prior])\n",
    "\n",
    "    \n",
    "    \n",
    "    for comp in range(num_components):\n",
    "        precision = np.linalg.inv(M.T @ inv_D @ M + inv_cov_prior[comp])\n",
    "        adj_mat = np.linalg.inv(D + M @ cov_prior[comp] @ M.T)\n",
    "        matrix_1[comp] = (data @ inv_D @ M + m_prior[comp,:] @ inv_cov_prior[comp]) @ precision.T\n",
    "        matrix_2[comp] = (data - m_prior[comp,:] @ M.T) @ adj_mat.T\n",
    "        matrix_3[comp] = precision @ M.T @ inv_D\n",
    "    \n",
    "    \n",
    "    for comp in range(num_components):\n",
    "        outer_prod = np.einsum('ij,ik->ijk', matrix_1[comp], matrix_2[comp]) - matrix_3[comp]\n",
    "        weight = P[:,comp].flatten()\n",
    "        result_1 = result_1 - outer_prod * weight[:, np.newaxis, np.newaxis]\n",
    "    \n",
    "    for comp_1 in range(num_components):\n",
    "        for comp_2 in range(num_components):\n",
    "            outer_prod = np.einsum('ij,ik->ijk', matrix_1[comp_1], matrix_2[comp_2])  \n",
    "            weight = P[:,comp_1].flatten() * P[:,comp_2].flatten()\n",
    "            result_1 = result_1 + outer_prod * weight[:, np.newaxis, np.newaxis]   \n",
    "        \n",
    "    return(result_1)    "
   ]
  },
  {
   "cell_type": "markdown",
   "metadata": {},
   "source": [
    "### Functions for construction of point predictors and prediction set"
   ]
  },
  {
   "cell_type": "markdown",
   "metadata": {},
   "source": [
    "These functions are used to construct the prediction set according to Algorithm 2."
   ]
  },
  {
   "cell_type": "code",
   "execution_count": 42,
   "metadata": {},
   "outputs": [],
   "source": [
    "def fit_gmm_post(data, components_list, seed):\n",
    "    \"\"\"\n",
    "    Fits Gaussian Model post atlas building with the atlas embeddings and chooses the number of components by minimizing BIC.\n",
    "\n",
    "    Parameters:\n",
    "    - data: the dataset\n",
    "    - components_list: a list of possible componenets\n",
    "    - seed: seed to intiate the algorithm\n",
    "\n",
    "    Returns:\n",
    "    - array of fitted means, covariances, and mixing proprtions corresponding to the model with lowest bic\n",
    "    \"\"\"\n",
    "\n",
    "    n_features = data.shape[1]\n",
    "    lowest_bic = np.infty\n",
    "    best_gmm = None\n",
    "    for n_components in components_list:\n",
    "        gmm = GaussianMixture(n_components=n_components, random_state=seed, covariance_type=\"diag\", init_params = 'random_from_data')\n",
    "        gmm.fit(data)\n",
    "        gcov = gmm.covariances_ \n",
    "        gmm.covariances_ = np.array([np.diag(cov) for cov in gcov])\n",
    "        bic = gmm.bic(data)\n",
    "        if bic < lowest_bic:\n",
    "            lowest_bic = bic\n",
    "            best_gmm = gmm\n",
    "    return best_gmm"
   ]
  },
  {
   "cell_type": "markdown",
   "metadata": {},
   "source": [
    "#### Functions used to compute point prediction"
   ]
  },
  {
   "cell_type": "code",
   "execution_count": 43,
   "metadata": {},
   "outputs": [],
   "source": [
    "def predict_gmm_unknown(data, m_prior_known, m_prior_unknown, cov_prior_comp_known, cross_cov_unknown_known, weights):\n",
    "\n",
    "    \"\"\"\n",
    "    Given a set of reference data, compute the posterior mean of the query data when both the data are jointly distributed as a gmm\n",
    "    \n",
    "    Parameters:\n",
    "    - data: the reference dataset\n",
    "    - m_prior_known: prior component means of reference data\n",
    "    - m_prior_unknown: prior component means of query data\n",
    "    - cov_prior_comp_known: prior component covariances of reference data\n",
    "    - cross_cov_unknown_known: covariance between reference and query data\n",
    "    - weights: prior weights\n",
    "\n",
    "    Returns:\n",
    "    - predicted embeddings of the query subjects\n",
    "    \"\"\" \n",
    "    \n",
    "    num_components = m_prior_known.shape[0]\n",
    "    num_samples = data.shape[0]\n",
    "    num_features = m_prior_unknown.shape[1]\n",
    "    \n",
    "    # Iteratively compute and average component conditional means\n",
    "\n",
    "\n",
    "    result = np.zeros((num_samples, num_features))\n",
    "    \n",
    "    for comp in range(num_components):\n",
    "\n",
    "        adj_scaling = cross_cov_unknown_known[comp] @ np.linalg.pinv(cov_prior_comp_known[comp])\n",
    "        result = result + (weights[:,comp])[:, np.newaxis] * (m_prior_unknown[comp,:] + (data-m_prior_known[comp,:]) @ adj_scaling.T)\n",
    "        \n",
    "    return result"
   ]
  },
  {
   "cell_type": "markdown",
   "metadata": {},
   "source": [
    "#### Functions used to compute prediction set"
   ]
  },
  {
   "cell_type": "code",
   "execution_count": 44,
   "metadata": {},
   "outputs": [],
   "source": [
    "def predict_gmm_distr(data, m_prior_known, m_prior_unknown, cov_prior_comp_known, cov_prior_comp_unknown, cross_cov_unknown_known): \n",
    "\n",
    "    \"\"\"\n",
    "    Given a set of reference data, compute the posterior distribution of the query data when both the data are jointly distributed as a gmm\n",
    "    \n",
    "    Parameters:\n",
    "    - data: the reference dataset\n",
    "    - m_prior_known: prior component means of reference data\n",
    "    - m_prior_unknown: prior component means of query data\n",
    "    - cov_prior_comp_known: prior component covariances of reference data\n",
    "    - cross_cov_unknown_known: covariance between reference and query data\n",
    "    - weights: prior weights\n",
    "\n",
    "    Returns:\n",
    "    - posterior distribution of the query embeddings given the reference embeddings\n",
    "    \"\"\" \n",
    "    \n",
    "    num_components = m_prior_known.shape[0]\n",
    "    \n",
    "    # Iteratively compute and average component conditional means\n",
    "    \n",
    "    result_mean = np.zeros((num_components,m_prior_unknown.shape[1]))\n",
    "    result_cov = np.empty(num_components, dtype=object)\n",
    "    \n",
    "    for comp in range(num_components):\n",
    "        adj_scaling = cross_cov_unknown_known[comp] @ np.linalg.pinv(cov_prior_comp_known[comp])\n",
    "        result_mean[comp,:] = m_prior_unknown[comp,:] + (data-m_prior_known[comp,:]) @ adj_scaling.T\n",
    "        result_cov[comp] = (cov_prior_comp_unknown[comp] - cross_cov_unknown_known[comp] @ np.linalg.pinv(cov_prior_comp_known[comp]) @ cross_cov_unknown_known[comp].T)\n",
    "        \n",
    "    return result_mean, result_cov"
   ]
  },
  {
   "cell_type": "code",
   "execution_count": 45,
   "metadata": {},
   "outputs": [],
   "source": [
    "## Compute outer product of two matrices\n",
    "\n",
    "matrix_outer = lambda A, B: np.einsum(\"bi,bo->bio\", A, B)"
   ]
  },
  {
   "cell_type": "code",
   "execution_count": 46,
   "metadata": {},
   "outputs": [],
   "source": [
    "seed = 10"
   ]
  },
  {
   "cell_type": "markdown",
   "metadata": {},
   "source": [
    "### Data Preprocessing"
   ]
  },
  {
   "cell_type": "markdown",
   "metadata": {},
   "source": [
    "### ADT Data Preprocessing"
   ]
  },
  {
   "cell_type": "markdown",
   "metadata": {},
   "source": [
    "In this section, we carry out the preprocessing of the data. This includes cleaning the ADT data by count normalizing and standardization followed by choosing the largest PCs. "
   ]
  },
  {
   "cell_type": "code",
   "execution_count": 47,
   "metadata": {},
   "outputs": [],
   "source": [
    "## Read the protein data\n",
    "\n",
    "data_protein = utils.read_csv('cleaned_adt_tea_seq.csv')\n",
    "data_protein = pd.DataFrame(data_protein)\n",
    "A = data_protein.to_numpy()\n",
    "A = A.T\n",
    "A = np.delete(A, obj = 0, axis = 1)\n",
    "A = A.astype('float64')\n",
    "\n",
    "## Determining the factor to scale the data \n",
    "scale_factor_A = round(np.median(A.sum(axis = 1)), -3)\n",
    "\n",
    "## Normalize the reduced data matrix\n",
    "\n",
    "A = normalize_data_matrix(A, scale_factor_A)\n",
    "\n",
    "# Select 40 highly variable proteins\n",
    "var_up_A = np.var(A, axis = 0)\n",
    "ind_up_A = np.argpartition(var_up_A, -40)[-40:]\n",
    "A = A[:,ind_up_A]\n",
    "\n",
    "## Centering A\n",
    "\n",
    "mean_A = np.mean(A, axis=0)\n",
    "A = A - mean_A\n"
   ]
  },
  {
   "cell_type": "code",
   "execution_count": 48,
   "metadata": {},
   "outputs": [],
   "source": [
    "## Preprocessing for testing\n",
    "k_A = 10\n",
    "U_A_adj, S_A_adj, V_A_adj = np.linalg.svd(A, full_matrices = False)\n",
    "A_readjusted = U_A_adj[:,:k_A] @ np.diag(S_A_adj[:k_A]) \n",
    "projector_A = V_A_adj[:k_A,:]\n",
    "A_original = A\n",
    "A = A_readjusted"
   ]
  },
  {
   "cell_type": "markdown",
   "metadata": {},
   "source": [
    "### Preprocessing ATAC and RNA Data"
   ]
  },
  {
   "cell_type": "markdown",
   "metadata": {},
   "source": [
    "In this section we read in the cleaned, count normalized and scaled ATAC data. We study the singular values of the high dimensional modalities to choose the number of latent factors. We correct for the noise variance to make the noise variance 1."
   ]
  },
  {
   "cell_type": "code",
   "execution_count": 49,
   "metadata": {},
   "outputs": [],
   "source": [
    "## Reading in atac Data\n",
    "\n",
    "data_atac = scp.read_h5ad('cleaned_atac_reads_tea_seq.h5ad')\n",
    "B_raw = data_atac.X\n",
    "B_raw = pd.DataFrame(B_raw)\n",
    "B_raw = B_raw.to_numpy()\n",
    "B_raw = B_raw.T\n",
    "\n",
    "## Rescaling the matrix to get 1/sqrt(n) scaling\n",
    "\n",
    "B = B_raw / np.sqrt(B_raw.shape[0])\n",
    "B = B.astype('float64')"
   ]
  },
  {
   "cell_type": "code",
   "execution_count": 50,
   "metadata": {},
   "outputs": [],
   "source": [
    "## Reading in RNA Data\n",
    "\n",
    "data_rna = scp.read_h5ad('cleaned_rna_reads_tea_seq.h5ad')\n",
    "C_raw = data_rna.X\n",
    "C_raw = pd.DataFrame(C_raw)\n",
    "C_raw = C_raw.to_numpy()\n",
    "C_raw = C_raw.T\n",
    "\n",
    "## Rescaling the matrix to get 1/sqrt(n) scaling\n",
    "\n",
    "C = C_raw / np.sqrt(C_raw.shape[0])\n",
    "C = C.astype('float64')\n"
   ]
  },
  {
   "cell_type": "code",
   "execution_count": 51,
   "metadata": {},
   "outputs": [
    {
     "data": {
      "text/plain": [
       "<Axes: >"
      ]
     },
     "execution_count": 51,
     "metadata": {},
     "output_type": "execute_result"
    },
    {
     "data": {
      "image/png": "[encoded data removed]",
      "text/plain": [
       "<Figure size 640x480 with 1 Axes>"
      ]
     },
     "metadata": {},
     "output_type": "display_data"
    }
   ],
   "source": [
    "## Studying the dominant atac PC's\n",
    "\n",
    "U1_init_bn, S1_init_bn, V1_init_bn = np.linalg.svd(B, full_matrices = False)\n",
    "plot_svd = S1_init_bn[:30]\n",
    "sns.scatterplot(data = plot_svd) "
   ]
  },
  {
   "cell_type": "code",
   "execution_count": 52,
   "metadata": {},
   "outputs": [
    {
     "data": {
      "image/png": "[encoded data removed]",
      "text/plain": [
       "<Figure size 640x480 with 1 Axes>"
      ]
     },
     "metadata": {},
     "output_type": "display_data"
    }
   ],
   "source": [
    "## Correcting for the noise variance\n",
    "\n",
    "k_B = 10\n",
    "n_features_B = B.shape[1]\n",
    "n_samples_B = B.shape[0]\n",
    "B_residual = B-U1_init_bn[:,:k_B] @ np.diag(S1_init_bn[:k_B]) @ V1_init_bn[:k_B,:]\n",
    "tau_sq_correct_B = np.sum(B_residual**2) / n_features_B \n",
    "B_residual = B_residual/np.sqrt(tau_sq_correct_B)\n",
    "U1_init_res_B, S1_init_res_B, V1_init_res_B = np.linalg.svd(B_residual, full_matrices = False)\n",
    "fig, ax = plt.subplots()\n",
    "sq_singular_val_B = S1_init_res_B ** 2\n",
    "shorter_side_B = min(n_samples_B, n_features_B)\n",
    "ax.hist(sq_singular_val_B[:shorter_side_B], density = True, bins = 50, label = \"Sample singular values\")\n",
    "x = np.linspace(sq_singular_val_B.min(), sq_singular_val_B.max(), num = 500)\n",
    "aspect_ratio = n_features_B / n_samples_B\n",
    "if aspect_ratio > 1:\n",
    "    scaler = aspect_ratio\n",
    "else:\n",
    "    scaler = 1\n",
    "ax.plot(x, scaler*np.array(sqrtMPlaw(x, n_samples_B, n_features_B)), label = \"MP law prediction of spectral distribution\")\n",
    "ax.legend()\n",
    "ax.set_title(\"Singular values\") \n",
    "plt.show()"
   ]
  },
  {
   "cell_type": "code",
   "execution_count": 53,
   "metadata": {},
   "outputs": [
    {
     "data": {
      "text/plain": [
       "<Axes: >"
      ]
     },
     "execution_count": 53,
     "metadata": {},
     "output_type": "execute_result"
    },
    {
     "data": {
      "image/png": "[encoded data removed]",
      "text/plain": [
       "<Figure size 640x480 with 1 Axes>"
      ]
     },
     "metadata": {},
     "output_type": "display_data"
    }
   ],
   "source": [
    "## Studying the dominant rna PC's\n",
    "\n",
    "U2_init_bn, S2_init_bn, V2_init_bn = np.linalg.svd(C, full_matrices = False)\n",
    "plot_svd = S2_init_bn[:30]\n",
    "sns.scatterplot(data = plot_svd) "
   ]
  },
  {
   "cell_type": "code",
   "execution_count": 54,
   "metadata": {},
   "outputs": [
    {
     "data": {
      "image/png": "[encoded data removed]",
      "text/plain": [
       "<Figure size 640x480 with 1 Axes>"
      ]
     },
     "metadata": {},
     "output_type": "display_data"
    }
   ],
   "source": [
    "## Correcting for the noise variance\n",
    "\n",
    "k_C = 15\n",
    "n_features_C = C.shape[1]\n",
    "n_samples_C = C.shape[0]\n",
    "C_residual = C-U2_init_bn[:,:k_C] @ np.diag(S2_init_bn[:k_C]) @ V2_init_bn[:k_C,:]\n",
    "tau_sq_correct_C = np.sum(C_residual**2) / n_features_C \n",
    "C_residual = C_residual/np.sqrt(tau_sq_correct_C)\n",
    "U2_init_res_C, S2_init_res_C, V2_init_res_C = np.linalg.svd(C_residual, full_matrices = False)\n",
    "fig, ax = plt.subplots()\n",
    "sq_singular_val_C = S2_init_res_C ** 2\n",
    "shorter_side_C = min(n_samples_C, n_features_B)\n",
    "ax.hist(sq_singular_val_C[:shorter_side_C], density = True, bins = 50, label = \"Sample singular values\")\n",
    "x = np.linspace(sq_singular_val_C.min(), sq_singular_val_C.max(), num = 500)\n",
    "aspect_ratio = n_features_C / n_samples_C\n",
    "if aspect_ratio > 1:\n",
    "    scaler = aspect_ratio\n",
    "else:\n",
    "    scaler = 1\n",
    "ax.plot(x, scaler*np.array(sqrtMPlaw(x, n_samples_C, n_features_C)), label = \"MP law prediction of spectral distribution\")\n",
    "ax.legend()\n",
    "ax.set_title(\"Singular values\") \n",
    "plt.show()"
   ]
  },
  {
   "cell_type": "code",
   "execution_count": 55,
   "metadata": {},
   "outputs": [],
   "source": [
    "A_reduced = A\n",
    "B_reduced = B / np.sqrt(tau_sq_correct_B)\n",
    "C_reduced = C / np.sqrt(tau_sq_correct_C)"
   ]
  },
  {
   "cell_type": "code",
   "execution_count": 56,
   "metadata": {},
   "outputs": [],
   "source": [
    "# Clean up the meta data\n",
    "\n",
    "meta = utils.read_csv('cleaned_cell_labels_meta_tea_seq.csv')\n",
    "meta = pd.DataFrame(meta)\n",
    "meta = meta.T\n",
    "meta = meta.to_numpy()\n",
    "meta = np.delete(meta, obj = 0, axis = 1)\n",
    "labels = meta.flatten(order='C')"
   ]
  },
  {
   "cell_type": "code",
   "execution_count": 57,
   "metadata": {},
   "outputs": [],
   "source": [
    "np.random.seed(seed)"
   ]
  },
  {
   "cell_type": "markdown",
   "metadata": {},
   "source": [
    "### Separate the training and test data"
   ]
  },
  {
   "cell_type": "markdown",
   "metadata": {},
   "source": [
    "We seggregate 1 CD8 effector, 1 Double negative T cell and 1 pre-B cell to use as test data."
   ]
  },
  {
   "cell_type": "code",
   "execution_count": 58,
   "metadata": {},
   "outputs": [],
   "source": [
    "index_holdout_full_set_1 = np.where(labels == 'CD8 effector')\n",
    "indices_cd8e = np.array(index_holdout_full_set_1)\n",
    "number_cd8e = indices_cd8e.shape[1]"
   ]
  },
  {
   "cell_type": "code",
   "execution_count": 59,
   "metadata": {},
   "outputs": [],
   "source": [
    "index_holdout_full_set_2 = np.where(labels == 'Double negative T cell')\n",
    "indices_dnt = np.array(index_holdout_full_set_2)\n",
    "number_dnt = indices_dnt.shape[1]"
   ]
  },
  {
   "cell_type": "code",
   "execution_count": 60,
   "metadata": {},
   "outputs": [],
   "source": [
    "index_holdout_full_set_3 = np.where(labels == 'pre-B cell')\n",
    "indices_pbc = np.array(index_holdout_full_set_3)\n",
    "number_pbc = indices_pbc.shape[1]"
   ]
  },
  {
   "cell_type": "code",
   "execution_count": 61,
   "metadata": {},
   "outputs": [],
   "source": [
    "## Separate training and query data\n",
    "\n",
    "\n",
    "randomlist_1 = np.random.choice(np.ndarray.flatten(indices_cd8e),1,replace=False)\n",
    "randomlist_2 = np.random.choice(np.ndarray.flatten(indices_dnt),1,replace=False)\n",
    "randomlist_3 = np.random.choice(np.ndarray.flatten(indices_pbc),1,replace=False)\n",
    "ix_holdout = np.array([randomlist_1, randomlist_2, randomlist_3])\n",
    "\n",
    "ix_holdout = ix_holdout.flatten(order='C')\n",
    "ix_total = np.array(range(B_reduced.shape[0]))\n",
    "ix_remain = np.setdiff1d(ix_total, ix_holdout)"
   ]
  },
  {
   "cell_type": "code",
   "execution_count": 62,
   "metadata": {},
   "outputs": [],
   "source": [
    "## Training Data\n",
    "\n",
    "A_amp = A_reduced[ix_remain,:]\n",
    "B_amp = B_reduced[ix_remain,:]\n",
    "C_amp = C_reduced[ix_remain,:]\n",
    "A_original = A_reduced\n",
    "B_original = B_reduced\n",
    "C_original = C_reduced\n",
    "A_reduced = A_amp\n",
    "B_reduced = B_amp\n",
    "C_reduced = C_amp"
   ]
  },
  {
   "cell_type": "code",
   "execution_count": 63,
   "metadata": {},
   "outputs": [],
   "source": [
    "## Test Data\n",
    "\n",
    "A_holdout = A_original[ix_holdout,:]\n",
    "B_holdout = B_original[ix_holdout,:]\n",
    "C_holdout = C_original[ix_holdout,:]"
   ]
  },
  {
   "cell_type": "markdown",
   "metadata": {},
   "source": [
    "Now we can estimate the scaling matrix $\\hat{\\bm L}$ defined in (2.6) of the paper."
   ]
  },
  {
   "cell_type": "code",
   "execution_count": 64,
   "metadata": {},
   "outputs": [],
   "source": [
    "## Estimate L\n",
    "\n",
    "cov_A = (1 / A_amp.shape[0]) * A_amp.T @ A_amp\n",
    "L_rough = cov_A - np.identity(A_amp.shape[1])\n",
    "val, vec = np.linalg.eig(L_rough)\n",
    "diag_adjust = np.diag(np.sqrt(val))\n",
    "L = vec @ diag_adjust"
   ]
  },
  {
   "cell_type": "markdown",
   "metadata": {},
   "source": [
    "### Prior Estimation and the Initialization of Algorithm 1"
   ]
  },
  {
   "cell_type": "markdown",
   "metadata": {},
   "source": [
    "In this section, we define the initializers to the Algorithm 1 and propose a mechanism to estimate the priors."
   ]
  },
  {
   "cell_type": "code",
   "execution_count": 65,
   "metadata": {},
   "outputs": [],
   "source": [
    "## Aspect Ratios\n",
    "\n",
    "gamma_1 = B_reduced.shape[1]/B_reduced.shape[0]\n",
    "gamma_2 = C_reduced.shape[1]/C_reduced.shape[0]"
   ]
  },
  {
   "cell_type": "code",
   "execution_count": 66,
   "metadata": {},
   "outputs": [],
   "source": [
    "## Compute Singular Value Decomposition of B\n",
    "\n",
    "k = 10\n",
    "k_B = k\n",
    "\n",
    "U1_init, S1_init, V1_init = np.linalg.svd(B_reduced, full_matrices = False)\n",
    "s_hat = S1_init[0:k] / np.sqrt(gamma_1)\n",
    "S_hat = np.diag(s_hat)\n",
    "\n",
    "sigma_x = (1 + gamma_1 * s_hat ** 2) / (gamma_1 * s_hat ** 2 * (s_hat ** 2 + 1))\n",
    "mu_x = np.sqrt(1 - sigma_x)\n",
    "sigmabar_x = (1 + s_hat ** 2) / (s_hat ** 2 * (gamma_1 * s_hat ** 2 + 1))\n",
    "mubar_x = np.sqrt(1 - sigmabar_x)\n",
    "\n",
    "# initialize M0 and Q0 for X\n",
    "\n",
    "M_0_x = np.diag(mu_x)\n",
    "Sigma_0_x = np.diag(sigma_x)\n",
    "M_bar_x = np.diag(mubar_x)\n",
    "Sigma_bar_x = np.diag(sigmabar_x)"
   ]
  },
  {
   "cell_type": "code",
   "execution_count": 67,
   "metadata": {},
   "outputs": [],
   "source": [
    "## Compute Singular Value Decomposition of C\n",
    "\n",
    "k_2 = 15\n",
    "k_C = k_2\n",
    "\n",
    "U2_init, S2_init, V2_init = np.linalg.svd(C_reduced, full_matrices = False)\n",
    "s_tilde = S2_init[0:k_2] / np.sqrt(gamma_2)\n",
    "S_tilde = np.diag(s_tilde)\n",
    "\n",
    "sigma_y = (1 + gamma_2 * s_tilde ** 2) / (gamma_2 * s_tilde ** 2 * (s_tilde ** 2 + 1))\n",
    "mu_y = np.sqrt(1 - sigma_y)\n",
    "sigmabar_y = (1 + s_tilde ** 2) / (s_tilde ** 2 * (gamma_2 * s_tilde ** 2 + 1))\n",
    "mubar_y = np.sqrt(1 - sigmabar_y)\n",
    "\n",
    "# initialize M0 and Q0 for Y\n",
    "\n",
    "M_0_y = np.diag(mu_y)\n",
    "Sigma_0_y = np.diag(sigma_y)\n",
    "M_bar_y = np.diag(mubar_y)\n",
    "Sigma_bar_y = np.diag(sigmabar_y)"
   ]
  },
  {
   "cell_type": "code",
   "execution_count": 68,
   "metadata": {},
   "outputs": [],
   "source": [
    "n = B_reduced.shape[0]; p_1 = B_reduced.shape[1]; p_2 = C_reduced.shape[1]"
   ]
  },
  {
   "cell_type": "code",
   "execution_count": 69,
   "metadata": {},
   "outputs": [],
   "source": [
    "## Scaling of the singular vectors of B and C\n",
    "\n",
    "F_x = np.sqrt(n) * U1_init[:,:k]\n",
    "G_x = np.sqrt(p_1) * V1_init.T[:,:k]\n",
    "\n",
    "F_y = np.sqrt(n) * U2_init[:,:k_2]\n",
    "G_y = np.sqrt(p_2) * V2_init.T[:,:k_2]\n",
    "\n",
    "G = G_x\n",
    "U_x_t = F_x @ sp.linalg.sqrtm(Sigma_0_x)\n",
    "\n",
    "Gbar = G_y\n",
    "U_y_t = F_y @ sp.linalg.sqrtm(Sigma_0_y)"
   ]
  },
  {
   "cell_type": "code",
   "execution_count": 70,
   "metadata": {},
   "outputs": [],
   "source": [
    "# Initializer of the Protein component embeddings\n",
    "\n",
    "F_z = A_reduced\n",
    "U_z_t = F_z @ np.linalg.inv(L)"
   ]
  },
  {
   "cell_type": "code",
   "execution_count": 71,
   "metadata": {},
   "outputs": [
    {
     "data": {
      "text/plain": [
       "<matplotlib.legend.Legend at 0x79b9cd8434f0>"
      ]
     },
     "execution_count": 71,
     "metadata": {},
     "output_type": "execute_result"
    },
    {
     "data": {
      "image/png": "[encoded data removed]",
      "text/plain": [
       "<Figure size 640x480 with 1 Axes>"
      ]
     },
     "metadata": {},
     "output_type": "display_data"
    }
   ],
   "source": [
    "## Visulize UMAP without Data Integration\n",
    "\n",
    "joint_embedding_PC = np.concatenate((U_z_t,U_x_t,U_y_t),axis=1)\n",
    "u_pc_embedding = umap.UMAP().fit_transform(\n",
    "        joint_embedding_PC )\n",
    "umap_data_PC = pd.DataFrame({'u0': u_pc_embedding[:, 0], 'u1': u_pc_embedding[:, 1], 'label': labels[ix_remain]})\n",
    "sns.scatterplot(data=umap_data_PC, x='u0', y='u1', hue='label', palette= 'tab20', s = 5)\n",
    "plt.legend(bbox_to_anchor=(1.02, 1), loc='upper left', borderaxespad=0)"
   ]
  },
  {
   "cell_type": "code",
   "execution_count": 72,
   "metadata": {},
   "outputs": [],
   "source": [
    "## Determine the support for GMM prior estimation\n",
    "\n",
    "Sigma_bar_z = np.eye(L.shape[0])\n",
    "\n",
    "n_clusters_u = int(np.round(np.cbrt(n)))\n",
    "n_clusters_v_1 = int(np.round(np.cbrt(p_1)))\n",
    "n_clusters_v_2 = int(np.round(np.cbrt(p_2)))\n",
    "\n",
    "data_prior_u = np.concatenate((F_x,F_y,F_z), axis=1)\n",
    "means_prior_u = sp.linalg.block_diag(M_bar_x, M_bar_y, L)\n",
    "cov_prior_u = sp.linalg.block_diag(Sigma_bar_x, Sigma_bar_y, Sigma_bar_z)\n",
    "\n",
    "data_prior_v_x = G_x\n",
    "means_prior_v_x = M_0_x\n",
    "cov_prior_v_x = Sigma_0_x\n",
    "\n",
    "data_prior_v_y = G_y\n",
    "means_prior_v_y = M_0_y\n",
    "cov_prior_v_y = Sigma_0_y\n"
   ]
  },
  {
   "cell_type": "code",
   "execution_count": null,
   "metadata": {},
   "outputs": [],
   "source": [
    "## NPMLE of the priors of right singular vectors\n",
    "\n",
    "mean_prior_comp_v_x, cov_prior_comp_v_x, weights_prior_comp_v_x = fit_gmm(data_prior_v_x, n_clusters_v_1, means_prior_v_x, cov_prior_v_x, seed)\n",
    "mean_prior_comp_v_y, cov_prior_comp_v_y, weights_prior_comp_v_y = fit_gmm(data_prior_v_y, n_clusters_v_2, means_prior_v_y, cov_prior_v_y, seed)"
   ]
  },
  {
   "cell_type": "code",
   "execution_count": 74,
   "metadata": {},
   "outputs": [],
   "source": [
    "## NPMLE of the priors of left singular vectors\n",
    "mean_prior_comp_u, cov_prior_comp_u, weights_prior_comp_u = fit_gmm(data_prior_u, n_clusters_u, means_prior_u, cov_prior_u, seed)"
   ]
  },
  {
   "cell_type": "markdown",
   "metadata": {},
   "source": [
    "###  OrchAMP based atlas building"
   ]
  },
  {
   "cell_type": "markdown",
   "metadata": {},
   "source": [
    "The code below builds OrchAMP atlas from training data."
   ]
  },
  {
   "cell_type": "code",
   "execution_count": 75,
   "metadata": {},
   "outputs": [
    {
     "name": "stdout",
     "output_type": "stream",
     "text": [
      "The current iteration is 0\n",
      "The current iteration is 1\n",
      "The current iteration is 2\n",
      "The current iteration is 3\n",
      "The current iteration is 4\n",
      "The current iteration is 5\n",
      "The current iteration is 6\n",
      "The current iteration is 7\n",
      "The current iteration is 8\n",
      "The current iteration is 9\n",
      "The current iteration is 10\n",
      "The current iteration is 11\n",
      "The current iteration is 12\n",
      "The current iteration is 13\n",
      "The current iteration is 14\n"
     ]
    }
   ],
   "source": [
    "# iterative refinement\n",
    "\n",
    "max_iter = 15\n",
    "\n",
    "M_x = np.array([M_0_x])\n",
    "M_y = np.array([M_0_y])\n",
    "Sigma_x = np.array([Sigma_0_x])\n",
    "Sigma_y = np.array([Sigma_0_y])\n",
    "\n",
    "for t in range(max_iter):\n",
    "    \n",
    "    # Denoising the right singular vectors\n",
    "    \n",
    "    V_x_t = denoise_gmm(G, mean_prior_comp_v_x, cov_prior_comp_v_x, M_x, Sigma_x, weights_prior_comp_v_x)\n",
    "    V_y_t = denoise_gmm(Gbar, mean_prior_comp_v_y, cov_prior_comp_v_y, M_y, Sigma_y, weights_prior_comp_v_y)\n",
    "    \n",
    "    # Compute the Jacobians\n",
    "    J_x = np.mean(ddenoise_gmm(G, mean_prior_comp_v_x, cov_prior_comp_v_x, M_x, Sigma_x, weights_prior_comp_v_x), axis=0)\n",
    "    J_y = np.mean(ddenoise_gmm(Gbar, mean_prior_comp_v_y, cov_prior_comp_v_y, M_y, Sigma_y, weights_prior_comp_v_y), axis=0)\n",
    "    \n",
    "    # Substract the onsager terms\n",
    "    F = B_reduced.dot(V_x_t) - gamma_1 * U_x_t.dot(J_x.T)\n",
    "    Fbar = C_reduced.dot(V_y_t) - gamma_2 * U_y_t.dot(J_y.T)\n",
    "    \n",
    "    # Update State Evolution Parameters\n",
    "    Sigmabar_x = (V_x_t.T @ V_x_t) / n\n",
    "    if np.linalg.det(Sigmabar_x) <= 2.7e-05:\n",
    "        np.fill_diagonal(Sigmabar_x, Sigmabar_x.diagonal() + np.finfo('float32').eps)\n",
    "    Mbar_x = Sigmabar_x * s_hat\n",
    "    Sigmabar_y = (V_y_t.T @ V_y_t) / n\n",
    "    if np.linalg.det(Sigmabar_y) <= 2.7e-05:\n",
    "        np.fill_diagonal(Sigmabar_y, Sigmabar_y.diagonal() + np.finfo('float32').eps)\n",
    "    Mbar_y = Sigmabar_y * s_tilde\n",
    "\n",
    "    Mbar = np.array([Mbar_x, Mbar_y, L], dtype='object')\n",
    "    Sigmabar = np.array([Sigmabar_x, Sigmabar_y, Sigma_bar_z], dtype='object')\n",
    "    F_comb = np.concatenate((F, Fbar, F_z), axis=1)\n",
    "\n",
    "    # Denoise left singular vectors in a orchestrated manner\n",
    "    U_x_t = denoise_gmm(F_comb, mean_prior_comp_u, cov_prior_comp_u, Mbar, Sigmabar, weights_prior_comp_u)[:,:k]\n",
    "    U_y_t = denoise_gmm(F_comb, mean_prior_comp_u, cov_prior_comp_u, Mbar, Sigmabar, weights_prior_comp_u)[:,k:(k+k_2)]\n",
    "    U_z_t = denoise_gmm(F_comb, mean_prior_comp_u, cov_prior_comp_u, Mbar, Sigmabar, weights_prior_comp_u)[:,(k+k_2):]\n",
    "    \n",
    "    J_comb = ddenoise_gmm(F_comb, mean_prior_comp_u, cov_prior_comp_u, Mbar, Sigmabar, weights_prior_comp_u)\n",
    "    \n",
    "    # Compute the Jacobians\n",
    "    J_1 = np.mean(J_comb[:,:k,:k], axis = 0)\n",
    "    J_2 = np.mean(J_comb[:,k:(k+k_2),k:(k+k_2)], axis = 0)\n",
    "    \n",
    "    # Substract the onsager terms\n",
    "    G = (B_reduced.T).dot(U_x_t) - V_x_t.dot(J_1.T)\n",
    "    Gbar = (C_reduced.T).dot(U_y_t) - V_y_t.dot(J_2.T)\n",
    "    \n",
    "    # Update State Evolution Parameters\n",
    "    Sigma_x = (U_x_t.T @ U_x_t) / n\n",
    "    if np.linalg.det(Sigma_x) <= 2.7e-05:\n",
    "        np.fill_diagonal(Sigma_x, Sigma_x.diagonal() + np.finfo('float32').eps)\n",
    "    M_x = Sigma_x * s_hat\n",
    "    Sigma_y = (U_y_t.T @ U_y_t) / n\n",
    "    if np.linalg.det(Sigma_y) <= 2.7e-05:\n",
    "        np.fill_diagonal(Sigma_y, Sigma_y.diagonal() + np.finfo('float32').eps)\n",
    "    M_y = Sigma_y * s_tilde\n",
    "\n",
    "    M_x = np.array([M_x])\n",
    "    M_y = np.array([M_y])\n",
    "    Sigma_x = np.array([Sigma_x])\n",
    "    Sigma_y = np.array([Sigma_y])\n",
    "    \n",
    "    print(f\"The current iteration is {t}\")\n",
    "   \n",
    "    ## Update the priors and the support if needed\n",
    "\n",
    "    ### pi_single_v_x = estimate_prior_single(G, supp_x_v, M_x, Sigma_x, 10)\n",
    "    ### pi_single_v_y = estimate_prior_single(Gbar, supp_y_v, M_y, Sigma_y, 10)\n",
    "    ### pi_joint_u = estimate_prior_joint(F, Fbar, supp_x_u, supp_y_u, Mbar_x, Mbar_y, Sigmabar_x, Sigmabar_y, 10)\n",
    "    ### supp_x_u = extract_support(F, n_clusters_u, Mbar_x)\n",
    "    ### supp_y_u = extract_support(Fbar, n_clusters_u, Mbar_y)\n",
    "\n",
    "    ### supp_x_v = extract_support(G, n_clusters_u, M_x)\n",
    "    ### supp_y_v = extract_support(Gbar, n_clusters_u, M_y)"
   ]
  },
  {
   "cell_type": "code",
   "execution_count": 76,
   "metadata": {},
   "outputs": [
    {
     "data": {
      "text/plain": [
       "<matplotlib.legend.Legend at 0x79b4bd3f9a00>"
      ]
     },
     "execution_count": 76,
     "metadata": {},
     "output_type": "execute_result"
    },
    {
     "data": {
      "image/png": "[encoded data removed]",
      "text/plain": [
       "<Figure size 640x480 with 1 Axes>"
      ]
     },
     "metadata": {},
     "output_type": "display_data"
    }
   ],
   "source": [
    "joint_embedding_amp = np.concatenate((U_z_t,U_x_t,U_y_t),axis=1)\n",
    "amp_for_pred = pd.DataFrame(joint_embedding_amp)\n",
    "amp_for_pred.to_csv('amp_for_prediction_tea_seq_analysis_bcp.csv')\n",
    "u_joint_embedding = umap.UMAP().fit_transform(\n",
    "        joint_embedding_amp)\n",
    "umap_data = pd.DataFrame({'u0': u_joint_embedding[:, 0], 'u1': u_joint_embedding[:, 1], 'label': labels[ix_remain]})\n",
    "sns.scatterplot(data=umap_data, x='u0', y='u1', hue='label', palette= 'tab20', s = 5)\n",
    "plt.legend(bbox_to_anchor=(1.02, 1), loc='upper left', borderaxespad=0)"
   ]
  },
  {
   "cell_type": "markdown",
   "metadata": {},
   "source": [
    "### Refitting the prior with the atlas embeddings for better prediction"
   ]
  },
  {
   "cell_type": "code",
   "execution_count": 77,
   "metadata": {},
   "outputs": [],
   "source": [
    "## Specify a list of number of components to refit the GMM\n",
    "\n",
    "components_list = np.array(range(n_clusters_u))+2"
   ]
  },
  {
   "cell_type": "code",
   "execution_count": 78,
   "metadata": {},
   "outputs": [],
   "source": [
    "## Refitting the GMM with AMP embeddings\n",
    "\n",
    "gmm_predict = fit_gmm_post(joint_embedding_amp, components_list, seed)\n",
    "means_joint = gmm_predict.means_\n",
    "cov_joint = gmm_predict.covariances_\n",
    "weights_joint = gmm_predict.weights_\n",
    "labels_modified = labels[ix_remain]\n"
   ]
  },
  {
   "cell_type": "markdown",
   "metadata": {},
   "source": [
    "### Predicting with full set of proteins"
   ]
  },
  {
   "cell_type": "markdown",
   "metadata": {},
   "source": [
    "In this section we compute the point prediction and prediction set of an pre-B cell using only protein modality"
   ]
  },
  {
   "cell_type": "code",
   "execution_count": 79,
   "metadata": {},
   "outputs": [],
   "source": [
    "## Computation of reference mean and covariances for point prediction\n",
    "\n",
    "index = range(k_A)\n",
    "left_index = np.setdiff1d(range(k_A+k_B+k_C),index)\n",
    "M_pred_0 = np.array([np.hstack((L, np.zeros((k_A, k_B)), np.zeros((k_A, k_C))))])\n",
    "Sigma_pred_0 = np.array([np.eye(k_A)])\n",
    "num_components = len(weights_joint)"
   ]
  },
  {
   "cell_type": "code",
   "execution_count": 80,
   "metadata": {},
   "outputs": [],
   "source": [
    "## Computation of joint mean and covariances for reference and query for point prediction\n",
    "\n",
    "M_pred_1 = np.hstack((L, np.zeros((k_A, k_B)), np.zeros((k_A, k_C))))\n",
    "Sigma_pred_1 = np.eye(k_A)\n",
    "m_prior_known = means_joint @ M_pred_1.T\n",
    "m_prior_unknown = means_joint\n",
    "cov_prior_comp_known = np.array([M_pred_1 @ cov_matrix @ M_pred_1.T + Sigma_pred_1 for cov_matrix in cov_joint])\n",
    "cov_prior_comp_unknown = np.array([cov_matrix for cov_matrix in cov_joint])\n",
    "cross_cov_unknown_known = np.array([cov_matrix @ M_pred_1.T for cov_matrix in cov_joint])\n"
   ]
  },
  {
   "cell_type": "code",
   "execution_count": 81,
   "metadata": {},
   "outputs": [],
   "source": [
    "## Computation of conditional distribution and point prediction (hat_pred)\n",
    "\n",
    "alpha = 95\n",
    "\n",
    "index_1_pred = 2\n",
    "n_samples_pi = 500\n",
    "means_cond, cov_cond = predict_gmm_distr(A_holdout[index_1_pred,:], m_prior_known, m_prior_unknown, cov_prior_comp_known, cov_prior_comp_unknown, cross_cov_unknown_known)\n",
    "weights_pred = _get_W_gmm(A_holdout, means_joint, cov_joint, M_pred_0, Sigma_pred_0, weights_joint)[index_1_pred,:]\n",
    "hat_pred = np.average(means_cond, axis=0, weights=weights_pred)"
   ]
  },
  {
   "cell_type": "code",
   "execution_count": 82,
   "metadata": {},
   "outputs": [],
   "source": [
    "# Create a Gaussian Mixture Model which is the posterior\n",
    "gmm_temp = GaussianMixture(n_components=len(cov_cond), covariance_type='full')\n",
    "\n",
    "# Set means, covariances, and weights\n",
    "gmm_temp.means_ = means_cond\n",
    "gmm_temp.covariances_ = cov_cond\n",
    "gmm_temp.weights_ = weights_pred\n",
    "\n",
    "num_samples = 10000  # Adjust the number of samples as needed\n",
    "samples_A_cond, _ = gmm_temp.sample(num_samples)\n",
    "samples_A_cond = samples_A_cond\n",
    "samples_A_cond = samples_A_cond - hat_pred\n",
    "radius_large_sample = np.linalg.norm(samples_A_cond, axis=1)\n",
    "radius_cond_prot_pred = np.percentile(radius_large_sample,alpha) \n"
   ]
  },
  {
   "cell_type": "code",
   "execution_count": 83,
   "metadata": {},
   "outputs": [],
   "source": [
    "## Approximation of b_alpha: radius of prediction set (by sampling)\n",
    "\n",
    "u_1_cond_mono_1 = np.random.randn(k_B+k_C+k_A,500) \n",
    "u_1_cond_mono_1 /= np.linalg.norm(u_1_cond_mono_1, axis=0)\n",
    "u_1_cond_mono_1 = u_1_cond_mono_1.T\n",
    "r_1_cond_mono_1 = np.random.uniform(0,radius_cond_prot_pred,500)    \n",
    "pred_noise_unobserved = r_1_cond_mono_1[:,np.newaxis] * u_1_cond_mono_1\n",
    "predicted_embedding = np.array(hat_pred + pred_noise_unobserved)\n",
    "   "
   ]
  },
  {
   "cell_type": "code",
   "execution_count": 84,
   "metadata": {},
   "outputs": [
    {
     "data": {
      "text/plain": [
       "array(['pre-B cell', 'pre-B cell', 'pre-B cell', 'pre-B cell',\n",
       "       'pre-B cell', 'pre-B cell', 'pre-B cell', 'pre-B cell',\n",
       "       'pre-B cell', 'pre-B cell', 'pre-B cell', 'pre-B cell',\n",
       "       'pre-B cell', 'pre-B cell', 'pre-B cell', 'pre-B cell',\n",
       "       'pre-B cell', 'pre-B cell', 'pre-B cell', 'pre-B cell',\n",
       "       'pre-B cell', 'pre-B cell', 'pre-B cell', 'pre-B cell',\n",
       "       'pre-B cell', 'pre-B cell', 'pre-B cell', 'pre-B cell',\n",
       "       'pre-B cell', 'pre-B cell', 'B cell progenitor', 'pre-B cell',\n",
       "       'pre-B cell', 'pre-B cell', 'pre-B cell', 'pre-B cell',\n",
       "       'pre-B cell', 'pre-B cell', 'pre-B cell', 'pre-B cell',\n",
       "       'pre-B cell', 'pre-B cell', 'pre-B cell', 'pre-B cell',\n",
       "       'pre-B cell', 'pre-B cell', 'pre-B cell', 'pre-B cell',\n",
       "       'pre-B cell', 'B cell progenitor', 'pre-B cell', 'pre-B cell',\n",
       "       'pre-B cell', 'pre-B cell', 'pre-B cell', 'pre-B cell',\n",
       "       'pre-B cell', 'pre-B cell', 'pre-B cell', 'pre-B cell',\n",
       "       'pre-B cell', 'pre-B cell', 'pre-B cell', 'pre-B cell',\n",
       "       'pre-B cell', 'pre-B cell', 'pre-B cell', 'pre-B cell',\n",
       "       'pre-B cell', 'pre-B cell', 'pre-B cell', 'pre-B cell',\n",
       "       'pre-B cell', 'pre-B cell', 'pre-B cell', 'pre-B cell',\n",
       "       'pre-B cell', 'pre-B cell', 'pre-B cell', 'pre-B cell',\n",
       "       'pre-B cell', 'pre-B cell', 'pre-B cell', 'pre-B cell',\n",
       "       'pre-B cell', 'pre-B cell', 'pre-B cell', 'pre-B cell',\n",
       "       'pre-B cell', 'pre-B cell', 'pre-B cell', 'pre-B cell',\n",
       "       'pre-B cell', 'pre-B cell', 'pre-B cell', 'pre-B cell',\n",
       "       'pre-B cell', 'pre-B cell', 'pre-B cell', 'pre-B cell',\n",
       "       'pre-B cell', 'pre-B cell', 'pre-B cell', 'pre-B cell',\n",
       "       'pre-B cell', 'pre-B cell', 'pre-B cell', 'pre-B cell',\n",
       "       'B cell progenitor', 'pre-B cell', 'pre-B cell', 'pre-B cell',\n",
       "       'pre-B cell', 'pre-B cell', 'pre-B cell', 'pre-B cell',\n",
       "       'pre-B cell', 'pre-B cell', 'pre-B cell', 'pre-B cell',\n",
       "       'pre-B cell', 'pre-B cell', 'pre-B cell', 'pre-B cell',\n",
       "       'pre-B cell', 'pre-B cell', 'pre-B cell', 'pre-B cell',\n",
       "       'pre-B cell', 'pre-B cell', 'pre-B cell', 'pre-B cell',\n",
       "       'pre-B cell', 'pre-B cell', 'pre-B cell', 'pre-B cell',\n",
       "       'pre-B cell', 'pre-B cell', 'pre-B cell', 'pre-B cell',\n",
       "       'pre-B cell', 'pre-B cell', 'pre-B cell', 'pre-B cell',\n",
       "       'pre-B cell', 'pre-B cell', 'pre-B cell', 'pre-B cell',\n",
       "       'pre-B cell', 'pre-B cell', 'pre-B cell', 'pre-B cell',\n",
       "       'pre-B cell', 'pre-B cell', 'pre-B cell', 'pre-B cell',\n",
       "       'pre-B cell', 'pre-B cell', 'pre-B cell', 'pre-B cell',\n",
       "       'pre-B cell', 'pre-B cell', 'pre-B cell', 'pre-B cell',\n",
       "       'pre-B cell', 'pre-B cell', 'pre-B cell', 'pre-B cell',\n",
       "       'pre-B cell', 'pre-B cell', 'pre-B cell', 'pre-B cell',\n",
       "       'pre-B cell', 'pre-B cell', 'pre-B cell', 'pre-B cell',\n",
       "       'pre-B cell', 'pre-B cell', 'pre-B cell', 'pre-B cell',\n",
       "       'pre-B cell', 'pre-B cell', 'pre-B cell', 'pre-B cell',\n",
       "       'pre-B cell', 'pre-B cell', 'pre-B cell', 'pre-B cell',\n",
       "       'pre-B cell', 'pre-B cell', 'pre-B cell', 'pre-B cell',\n",
       "       'pre-B cell', 'pre-B cell', 'pre-B cell', 'pre-B cell',\n",
       "       'pre-B cell', 'pre-B cell', 'pre-B cell', 'pre-B cell',\n",
       "       'pre-B cell', 'pre-B cell', 'pre-B cell', 'pre-B cell',\n",
       "       'pre-B cell', 'pre-B cell', 'pre-B cell', 'pre-B cell',\n",
       "       'pre-B cell', 'B cell progenitor', 'pre-B cell', 'pre-B cell',\n",
       "       'pre-B cell', 'pre-B cell', 'pre-B cell', 'pre-B cell',\n",
       "       'pre-B cell', 'pre-B cell', 'pre-B cell', 'pre-B cell',\n",
       "       'pre-B cell', 'pre-B cell', 'pre-B cell', 'pre-B cell',\n",
       "       'pre-B cell', 'pre-B cell', 'pre-B cell', 'pre-B cell',\n",
       "       'pre-B cell', 'pre-B cell', 'pre-B cell', 'pre-B cell',\n",
       "       'pre-B cell', 'pre-B cell', 'pre-B cell', 'pre-B cell',\n",
       "       'pre-B cell', 'pre-B cell', 'pre-B cell', 'pre-B cell',\n",
       "       'pre-B cell', 'pre-B cell', 'pre-B cell', 'pre-B cell',\n",
       "       'pre-B cell', 'pre-B cell', 'pre-B cell', 'pre-B cell',\n",
       "       'B cell progenitor', 'pre-B cell', 'pre-B cell', 'pre-B cell',\n",
       "       'pre-B cell', 'pre-B cell', 'pre-B cell', 'pre-B cell',\n",
       "       'pre-B cell', 'pre-B cell', 'pre-B cell', 'pre-B cell',\n",
       "       'pre-B cell', 'pre-B cell', 'pre-B cell', 'pre-B cell',\n",
       "       'pre-B cell', 'pre-B cell', 'pre-B cell', 'pre-B cell',\n",
       "       'pre-B cell', 'pre-B cell', 'B cell progenitor', 'pre-B cell',\n",
       "       'pre-B cell', 'pre-B cell', 'pre-B cell', 'pre-B cell',\n",
       "       'pre-B cell', 'pre-B cell', 'pre-B cell', 'pre-B cell',\n",
       "       'pre-B cell', 'pre-B cell', 'pre-B cell', 'pre-B cell',\n",
       "       'pre-B cell', 'pre-B cell', 'pre-B cell', 'pre-B cell',\n",
       "       'B cell progenitor', 'pre-B cell', 'pre-B cell', 'pre-B cell',\n",
       "       'pre-B cell', 'pre-B cell', 'pre-B cell', 'pre-B cell',\n",
       "       'pre-B cell', 'pre-B cell', 'pre-B cell', 'pre-B cell',\n",
       "       'pre-B cell', 'pre-B cell', 'pre-B cell', 'pre-B cell',\n",
       "       'pre-B cell', 'pre-B cell', 'pre-B cell', 'pre-B cell',\n",
       "       'pre-B cell', 'pre-B cell', 'pre-B cell', 'pre-B cell',\n",
       "       'pre-B cell', 'pre-B cell', 'pre-B cell', 'pre-B cell',\n",
       "       'pre-B cell', 'pre-B cell', 'pre-B cell', 'pre-B cell',\n",
       "       'pre-B cell', 'pre-B cell', 'pre-B cell', 'pre-B cell',\n",
       "       'pre-B cell', 'B cell progenitor', 'pre-B cell', 'pre-B cell',\n",
       "       'pre-B cell', 'pre-B cell', 'pre-B cell', 'pre-B cell',\n",
       "       'pre-B cell', 'pre-B cell', 'pre-B cell', 'pre-B cell',\n",
       "       'pre-B cell', 'pre-B cell', 'pre-B cell', 'pre-B cell',\n",
       "       'pre-B cell', 'pre-B cell', 'pre-B cell', 'pre-B cell',\n",
       "       'pre-B cell', 'pre-B cell', 'pre-B cell', 'pre-B cell',\n",
       "       'pre-B cell', 'pre-B cell', 'pre-B cell', 'pre-B cell',\n",
       "       'pre-B cell', 'pre-B cell', 'pre-B cell', 'pre-B cell',\n",
       "       'pre-B cell', 'pre-B cell', 'pre-B cell', 'pre-B cell',\n",
       "       'pre-B cell', 'pre-B cell', 'pre-B cell', 'pre-B cell',\n",
       "       'pre-B cell', 'pre-B cell', 'pre-B cell', 'pre-B cell',\n",
       "       'pre-B cell', 'pre-B cell', 'pre-B cell', 'pre-B cell',\n",
       "       'pre-B cell', 'pre-B cell', 'pre-B cell', 'pre-B cell',\n",
       "       'pre-B cell', 'pre-B cell', 'pre-B cell', 'pre-B cell',\n",
       "       'pre-B cell', 'pre-B cell', 'pre-B cell', 'pre-B cell',\n",
       "       'pre-B cell', 'pre-B cell', 'pre-B cell', 'pre-B cell',\n",
       "       'pre-B cell', 'pre-B cell', 'pre-B cell', 'pre-B cell',\n",
       "       'pre-B cell', 'pre-B cell', 'pre-B cell', 'pre-B cell',\n",
       "       'pre-B cell', 'pre-B cell', 'pre-B cell', 'pre-B cell',\n",
       "       'pre-B cell', 'pre-B cell', 'pre-B cell', 'pre-B cell',\n",
       "       'pre-B cell', 'pre-B cell', 'pre-B cell', 'pre-B cell',\n",
       "       'pre-B cell', 'pre-B cell', 'pre-B cell', 'pre-B cell',\n",
       "       'pre-B cell', 'pre-B cell', 'pre-B cell', 'pre-B cell',\n",
       "       'pre-B cell', 'pre-B cell', 'pre-B cell', 'pre-B cell',\n",
       "       'pre-B cell', 'pre-B cell', 'pre-B cell', 'pre-B cell',\n",
       "       'pre-B cell', 'pre-B cell', 'pre-B cell', 'pre-B cell',\n",
       "       'pre-B cell', 'pre-B cell', 'pre-B cell', 'pre-B cell',\n",
       "       'pre-B cell', 'pre-B cell', 'pre-B cell', 'pre-B cell',\n",
       "       'pre-B cell', 'pre-B cell', 'pre-B cell', 'pre-B cell',\n",
       "       'pre-B cell', 'pre-B cell', 'pre-B cell', 'pre-B cell',\n",
       "       'pre-B cell', 'pre-B cell', 'pre-B cell', 'pre-B cell',\n",
       "       'B cell progenitor', 'pre-B cell', 'pre-B cell', 'pre-B cell',\n",
       "       'pre-B cell', 'pre-B cell', 'pre-B cell', 'pre-B cell',\n",
       "       'pre-B cell', 'pre-B cell', 'pre-B cell', 'pre-B cell',\n",
       "       'pre-B cell', 'pre-B cell', 'pre-B cell', 'pre-B cell',\n",
       "       'pre-B cell', 'pre-B cell', 'pre-B cell', 'pre-B cell',\n",
       "       'pre-B cell', 'pre-B cell', 'pre-B cell', 'pre-B cell',\n",
       "       'pre-B cell', 'pre-B cell', 'pre-B cell', 'pre-B cell',\n",
       "       'pre-B cell', 'pre-B cell', 'pre-B cell', 'pre-B cell',\n",
       "       'pre-B cell', 'pre-B cell', 'pre-B cell', 'pre-B cell',\n",
       "       'pre-B cell', 'pre-B cell', 'pre-B cell', 'pre-B cell',\n",
       "       'pre-B cell', 'pre-B cell', 'pre-B cell', 'pre-B cell',\n",
       "       'pre-B cell', 'pre-B cell', 'pre-B cell', 'pre-B cell',\n",
       "       'pre-B cell', 'pre-B cell', 'pre-B cell', 'pre-B cell'],\n",
       "      dtype=object)"
      ]
     },
     "execution_count": 84,
     "metadata": {},
     "output_type": "execute_result"
    }
   ],
   "source": [
    "ixpred_full, dxpred_full = pairwise_distances_argmin_min(predicted_embedding,joint_embedding_amp)\n",
    "labels_projected_test_full = labels_modified[ixpred_full]\n",
    "labels_projected_test_full\n"
   ]
  },
  {
   "cell_type": "markdown",
   "metadata": {},
   "source": [
    "### Storing the predicted embeddings"
   ]
  },
  {
   "cell_type": "markdown",
   "metadata": {},
   "source": [
    "In this section, we store the predicted embeddings, the labels of the training cells and the projected labels of the test set (the label of their nearest neighbor in the training data)"
   ]
  },
  {
   "cell_type": "code",
   "execution_count": 86,
   "metadata": {},
   "outputs": [],
   "source": [
    "predicted_embeddings_set = pd.DataFrame(predicted_embedding)\n",
    "predicted_embeddings_set.to_csv('predicted_embeddings_set_full_set_prot.csv')\n",
    "\n",
    "labels_modified_store = pd.DataFrame(labels_modified)\n",
    "labels_modified_store.to_csv('labels_modified_pred_full_set_prot.csv')\n",
    "\n",
    "labels_projected_test_full_store = pd.DataFrame(labels_projected_test_full)\n",
    "labels_projected_test_full_store.to_csv('labels_projected_test_full_store_full_set_prot.csv')\n",
    "\n",
    "\n"
   ]
  },
  {
   "cell_type": "markdown",
   "metadata": {},
   "source": [
    "### Predicting with full set of RNA"
   ]
  },
  {
   "cell_type": "markdown",
   "metadata": {},
   "source": [
    "Other parts of the code are same as that in protein"
   ]
  },
  {
   "cell_type": "code",
   "execution_count": 87,
   "metadata": {},
   "outputs": [],
   "source": [
    "# Computation of R_hat described in paper\n",
    "\n",
    "hat_R = (1/n) * np.diag(s_tilde) @ V_y_t.T\n",
    "tilde_U = C_holdout @ hat_R.T @ np.linalg.inv(hat_R @ hat_R.T)\n",
    "tilde_U_embedding = tilde_U \n",
    "\n",
    "D_2 = np.diag(s_tilde)\n",
    "matrix_adjustment_sigma_C = D_2 @ Sigmabar_y @ D_2\n",
    "matrix_adjustment_sigma_C = sp.linalg.sqrtm(matrix_adjustment_sigma_C)\n",
    "matrix_adjustment_sigma_C = np.linalg.inv(matrix_adjustment_sigma_C)\n",
    "\n",
    "mean_mat_C = np.identity(matrix_adjustment_sigma_C.shape[1])"
   ]
  },
  {
   "cell_type": "code",
   "execution_count": 88,
   "metadata": {},
   "outputs": [],
   "source": [
    "# Computation of reference mean and covariances for point prediction\n",
    "\n",
    "index = range(k_C)\n",
    "left_index = np.setdiff1d(range(k_B+k_C),index)\n",
    "M_pred_0 = np.array([np.hstack((np.zeros((k_C, k_A)), np.zeros((k_C, k_B)), mean_mat_C))])\n",
    "Sigma_pred_0 = np.array([matrix_adjustment_sigma_C])\n",
    "num_components = len(weights_joint)"
   ]
  },
  {
   "cell_type": "code",
   "execution_count": 89,
   "metadata": {},
   "outputs": [],
   "source": [
    "# Computation of joint mean and covariances for reference and query for point prediction\n",
    "\n",
    "M_pred_1 = np.hstack((np.zeros((k_C, k_A)), np.zeros((k_C, k_B)), mean_mat_C))\n",
    "Sigma_pred_1 = matrix_adjustment_sigma_C\n",
    "m_prior_known = means_joint @ M_pred_1.T\n",
    "m_prior_unknown = means_joint\n",
    "cov_prior_comp_known = np.array([M_pred_1 @ cov_matrix @ M_pred_1.T + Sigma_pred_1 for cov_matrix in cov_joint])\n",
    "cov_prior_comp_unknown = np.array([cov_matrix for cov_matrix in cov_joint])\n",
    "cross_cov_unknown_known = np.array([cov_matrix @ M_pred_1.T for cov_matrix in cov_joint])\n"
   ]
  },
  {
   "cell_type": "code",
   "execution_count": 90,
   "metadata": {},
   "outputs": [],
   "source": [
    "# Computation of point predictor\n",
    "\n",
    "alpha = 95\n",
    "index_1_pred = 1\n",
    "n_samples_pi = 500\n",
    "means_cond, cov_cond = predict_gmm_distr(tilde_U_embedding[index_1_pred,:], m_prior_known, m_prior_unknown, cov_prior_comp_known, cov_prior_comp_unknown, cross_cov_unknown_known)\n",
    "weights_pred = _get_W_gmm(tilde_U_embedding, means_joint, cov_joint, M_pred_0, Sigma_pred_0, weights_joint)[index_1_pred,:]\n",
    "hat_pred = np.average(means_cond, axis=0, weights=weights_pred)"
   ]
  },
  {
   "cell_type": "code",
   "execution_count": 91,
   "metadata": {},
   "outputs": [],
   "source": [
    "# Create a Gaussian Mixture Model\n",
    "gmm_temp = GaussianMixture(n_components=len(cov_cond), covariance_type='full')\n",
    "\n",
    "# Set means, covariances, and weights\n",
    "gmm_temp.means_ = means_cond\n",
    "gmm_temp.covariances_ = cov_cond\n",
    "gmm_temp.weights_ = weights_pred\n",
    "\n",
    "num_samples = 10000  # Adjust the number of samples as needed\n",
    "samples_A_cond, _ = gmm_temp.sample(num_samples)\n",
    "samples_A_cond = samples_A_cond\n",
    "samples_A_cond = samples_A_cond - hat_pred\n",
    "radius_large_sample = np.linalg.norm(samples_A_cond, axis=1)\n",
    "radius_cond_prot_pred = np.percentile(radius_large_sample,alpha) \n"
   ]
  },
  {
   "cell_type": "code",
   "execution_count": 92,
   "metadata": {},
   "outputs": [],
   "source": [
    "# Computation of radius of prediction set\n",
    "\n",
    "u_1_cond_mono_1 = np.random.randn(k_B+k_C+k_A,500) \n",
    "u_1_cond_mono_1 /= np.linalg.norm(u_1_cond_mono_1, axis=0)\n",
    "u_1_cond_mono_1 = u_1_cond_mono_1.T\n",
    "r_1_cond_mono_1 = np.random.uniform(0,radius_cond_prot_pred,500)    \n",
    "pred_noise_unobserved = r_1_cond_mono_1[:,np.newaxis] * u_1_cond_mono_1\n",
    "predicted_embedding = np.array(hat_pred + pred_noise_unobserved)\n",
    "   "
   ]
  },
  {
   "cell_type": "code",
   "execution_count": 93,
   "metadata": {},
   "outputs": [
    {
     "data": {
      "text/plain": [
       "array(['CD4 Memory', 'Double negative T cell', 'Double negative T cell',\n",
       "       'CD4 Memory', 'CD4 Memory', 'CD4 Memory', 'Double negative T cell',\n",
       "       'CD8 effector', 'Double negative T cell', 'CD4 Memory',\n",
       "       'Double negative T cell', 'Double negative T cell',\n",
       "       'Double negative T cell', 'CD4 Memory', 'Double negative T cell',\n",
       "       'CD4 Memory', 'CD4 Memory', 'CD8 effector', 'CD4 Memory',\n",
       "       'Double negative T cell', 'CD4 Memory', 'CD4 Memory',\n",
       "       'Double negative T cell', 'CD4 Memory', 'Double negative T cell',\n",
       "       'Double negative T cell', 'CD4 Memory', 'Double negative T cell',\n",
       "       'Double negative T cell', 'Double negative T cell',\n",
       "       'Double negative T cell', 'CD4 Memory', 'CD4 Memory',\n",
       "       'Double negative T cell', 'Double negative T cell', 'CD8 effector',\n",
       "       'CD4 Memory', 'Double negative T cell', 'Double negative T cell',\n",
       "       'Double negative T cell', 'CD4 Memory', 'CD4 Memory',\n",
       "       'Double negative T cell', 'Double negative T cell',\n",
       "       'Double negative T cell', 'CD4 Memory', 'CD4 Memory',\n",
       "       'CD8 effector', 'Double negative T cell', 'CD8 effector',\n",
       "       'Double negative T cell', 'CD4 Memory', 'CD4 Memory', 'CD4 Memory',\n",
       "       'Double negative T cell', 'CD8 effector', 'Double negative T cell',\n",
       "       'Double negative T cell', 'CD8 effector', 'Double negative T cell',\n",
       "       'CD4 Memory', 'CD8 effector', 'CD4 Naive', 'CD8 effector',\n",
       "       'CD4 Memory', 'Double negative T cell', 'CD4 Memory',\n",
       "       'Double negative T cell', 'Double negative T cell',\n",
       "       'Double negative T cell', 'CD4 Memory', 'Double negative T cell',\n",
       "       'CD4 Memory', 'Double negative T cell', 'Double negative T cell',\n",
       "       'CD8 effector', 'CD4 Memory', 'CD4 Memory', 'CD4 Memory',\n",
       "       'Double negative T cell', 'CD4 Memory', 'CD8 effector',\n",
       "       'Double negative T cell', 'Double negative T cell',\n",
       "       'Double negative T cell', 'Double negative T cell', 'CD4 Memory',\n",
       "       'Double negative T cell', 'CD4 Memory', 'Double negative T cell',\n",
       "       'CD4 Memory', 'Double negative T cell', 'Double negative T cell',\n",
       "       'Double negative T cell', 'CD4 Memory', 'CD4 Memory', 'CD4 Memory',\n",
       "       'CD4 Memory', 'CD8 effector', 'CD4 Memory',\n",
       "       'Double negative T cell', 'CD8 effector', 'Double negative T cell',\n",
       "       'Double negative T cell', 'Double negative T cell', 'CD4 Memory',\n",
       "       'Double negative T cell', 'CD4 Memory', 'CD4 Memory',\n",
       "       'Double negative T cell', 'CD4 Memory', 'Double negative T cell',\n",
       "       'Double negative T cell', 'Double negative T cell',\n",
       "       'Double negative T cell', 'CD4 Memory', 'CD4 Memory', 'CD4 Memory',\n",
       "       'Double negative T cell', 'Double negative T cell', 'CD4 Memory',\n",
       "       'CD4 Memory', 'Double negative T cell', 'CD4 Memory',\n",
       "       'Double negative T cell', 'Double negative T cell', 'CD4 Memory',\n",
       "       'Double negative T cell', 'CD4 Memory', 'Double negative T cell',\n",
       "       'Double negative T cell', 'CD4 Memory', 'CD4 Memory',\n",
       "       'Double negative T cell', 'CD4 Memory', 'CD4 Memory', 'CD4 Memory',\n",
       "       'Double negative T cell', 'Double negative T cell', 'CD4 Memory',\n",
       "       'CD4 Memory', 'Double negative T cell', 'CD4 Memory', 'CD4 Memory',\n",
       "       'CD4 Memory', 'Double negative T cell', 'Double negative T cell',\n",
       "       'CD8 effector', 'Double negative T cell', 'Double negative T cell',\n",
       "       'Double negative T cell', 'Double negative T cell', 'CD4 Memory',\n",
       "       'Double negative T cell', 'Double negative T cell', 'CD4 Memory',\n",
       "       'Double negative T cell', 'CD8 effector', 'Double negative T cell',\n",
       "       'CD4 Memory', 'CD8 effector', 'CD8 effector', 'CD4 Memory',\n",
       "       'CD4 Memory', 'Double negative T cell', 'CD4 Memory',\n",
       "       'CD8 effector', 'CD4 Memory', 'CD4 Memory', 'CD4 Memory',\n",
       "       'CD4 Memory', 'Double negative T cell', 'CD4 Memory',\n",
       "       'Double negative T cell', 'CD4 Memory', 'CD4 Memory',\n",
       "       'Double negative T cell', 'CD4 Memory', 'CD8 effector',\n",
       "       'CD4 Memory', 'Double negative T cell', 'CD4 Memory',\n",
       "       'Double negative T cell', 'Double negative T cell', 'CD8 effector',\n",
       "       'CD4 Memory', 'Double negative T cell', 'Double negative T cell',\n",
       "       'CD4 Memory', 'CD4 Memory', 'Double negative T cell', 'CD4 Memory',\n",
       "       'CD4 Memory', 'Double negative T cell', 'CD8 effector',\n",
       "       'Double negative T cell', 'CD4 Memory', 'Double negative T cell',\n",
       "       'CD4 Memory', 'Double negative T cell', 'Double negative T cell',\n",
       "       'Double negative T cell', 'CD8 effector', 'Double negative T cell',\n",
       "       'Double negative T cell', 'Double negative T cell',\n",
       "       'Double negative T cell', 'Double negative T cell',\n",
       "       'Double negative T cell', 'CD4 Naive', 'Double negative T cell',\n",
       "       'Double negative T cell', 'CD4 Memory', 'Double negative T cell',\n",
       "       'CD4 Memory', 'Double negative T cell', 'CD8 effector',\n",
       "       'Double negative T cell', 'CD4 Memory', 'Double negative T cell',\n",
       "       'Double negative T cell', 'CD4 Naive', 'Double negative T cell',\n",
       "       'Double negative T cell', 'Double negative T cell', 'CD4 Memory',\n",
       "       'CD4 Memory', 'Double negative T cell', 'Double negative T cell',\n",
       "       'Double negative T cell', 'CD8 effector', 'pre-B cell',\n",
       "       'Double negative T cell', 'Double negative T cell', 'CD4 Memory',\n",
       "       'Double negative T cell', 'CD8 effector', 'CD4 Memory',\n",
       "       'Double negative T cell', 'Double negative T cell', 'CD4 Memory',\n",
       "       'Double negative T cell', 'Double negative T cell',\n",
       "       'Double negative T cell', 'Double negative T cell', 'CD8 effector',\n",
       "       'Double negative T cell', 'Double negative T cell', 'CD4 Memory',\n",
       "       'Double negative T cell', 'Double negative T cell',\n",
       "       'Double negative T cell', 'CD8 effector', 'CD4 Memory',\n",
       "       'CD8 effector', 'CD8 effector', 'Double negative T cell',\n",
       "       'CD4 Memory', 'Double negative T cell', 'Double negative T cell',\n",
       "       'Double negative T cell', 'Double negative T cell', 'CD4 Memory',\n",
       "       'CD4 Memory', 'Double negative T cell', 'Double negative T cell',\n",
       "       'CD8 effector', 'CD4 Memory', 'CD4 Memory',\n",
       "       'Double negative T cell', 'CD8 effector', 'Double negative T cell',\n",
       "       'CD4 Memory', 'CD4 Memory', 'CD4 Memory', 'CD4 Memory',\n",
       "       'CD4 Memory', 'Double negative T cell', 'CD8 effector',\n",
       "       'Double negative T cell', 'Double negative T cell',\n",
       "       'Double negative T cell', 'Double negative T cell',\n",
       "       'Double negative T cell', 'Double negative T cell', 'CD4 Memory',\n",
       "       'CD8 effector', 'Double negative T cell', 'Double negative T cell',\n",
       "       'Double negative T cell', 'CD4 Memory', 'CD4 Memory',\n",
       "       'Double negative T cell', 'Double negative T cell', 'CD4 Memory',\n",
       "       'CD4 Memory', 'Double negative T cell', 'CD8 effector',\n",
       "       'Double negative T cell', 'CD4 Naive', 'CD8 effector',\n",
       "       'Double negative T cell', 'Double negative T cell', 'CD4 Memory',\n",
       "       'CD4 Memory', 'Double negative T cell', 'Double negative T cell',\n",
       "       'Double negative T cell', 'CD4 Memory', 'CD4 Memory', 'CD4 Naive',\n",
       "       'Double negative T cell', 'Double negative T cell',\n",
       "       'Double negative T cell', 'CD8 effector', 'CD4 Memory',\n",
       "       'CD4 Memory', 'Double negative T cell', 'Double negative T cell',\n",
       "       'CD4 Memory', 'CD4 Memory', 'Double negative T cell',\n",
       "       'CD8 effector', 'CD4 Memory', 'CD4 Memory',\n",
       "       'Double negative T cell', 'CD4 Memory', 'CD4 Memory',\n",
       "       'Double negative T cell', 'CD4 Memory', 'Double negative T cell',\n",
       "       'CD8 effector', 'Double negative T cell', 'Double negative T cell',\n",
       "       'CD4 Memory', 'Double negative T cell', 'Double negative T cell',\n",
       "       'Double negative T cell', 'Double negative T cell', 'CD4 Memory',\n",
       "       'Double negative T cell', 'Double negative T cell',\n",
       "       'Double negative T cell', 'Double negative T cell',\n",
       "       'Double negative T cell', 'Double negative T cell',\n",
       "       'Double negative T cell', 'CD8 effector', 'Double negative T cell',\n",
       "       'CD4 Memory', 'CD4 Memory', 'CD8 effector', 'CD4 Memory',\n",
       "       'Double negative T cell', 'Double negative T cell', 'CD8 effector',\n",
       "       'Double negative T cell', 'Double negative T cell',\n",
       "       'Double negative T cell', 'CD4 Memory', 'Double negative T cell',\n",
       "       'Double negative T cell', 'CD4 Memory', 'Double negative T cell',\n",
       "       'CD8 effector', 'Double negative T cell', 'Double negative T cell',\n",
       "       'Double negative T cell', 'CD4 Memory', 'Double negative T cell',\n",
       "       'CD4 Memory', 'Double negative T cell', 'Double negative T cell',\n",
       "       'Double negative T cell', 'CD4 Memory', 'CD4 Memory',\n",
       "       'Double negative T cell', 'CD4 Memory', 'CD4 Memory',\n",
       "       'Double negative T cell', 'Double negative T cell',\n",
       "       'Double negative T cell', 'Double negative T cell', 'CD4 Memory',\n",
       "       'CD4 Naive', 'Double negative T cell', 'Double negative T cell',\n",
       "       'CD4 Memory', 'Double negative T cell', 'CD4 Memory',\n",
       "       'Double negative T cell', 'Double negative T cell', 'CD4 Memory',\n",
       "       'Double negative T cell', 'Double negative T cell', 'CD4 Memory',\n",
       "       'CD4 Memory', 'CD4 Memory', 'CD8 effector',\n",
       "       'Double negative T cell', 'CD4 Memory', 'Double negative T cell',\n",
       "       'Double negative T cell', 'Double negative T cell',\n",
       "       'Double negative T cell', 'Double negative T cell',\n",
       "       'Double negative T cell', 'CD4 Memory', 'Double negative T cell',\n",
       "       'Double negative T cell', 'Double negative T cell',\n",
       "       'Double negative T cell', 'CD4 Memory', 'Double negative T cell',\n",
       "       'Double negative T cell', 'Double negative T cell',\n",
       "       'Double negative T cell', 'CD8 effector', 'CD4 Memory',\n",
       "       'Double negative T cell', 'Double negative T cell',\n",
       "       'Double negative T cell', 'CD4 Memory', 'Double negative T cell',\n",
       "       'CD4 Memory', 'CD4 Memory', 'Double negative T cell', 'CD4 Memory',\n",
       "       'Double negative T cell', 'Double negative T cell',\n",
       "       'Double negative T cell', 'Double negative T cell', 'CD8 effector',\n",
       "       'CD4 Memory', 'Double negative T cell', 'CD8 effector',\n",
       "       'Double negative T cell', 'Double negative T cell',\n",
       "       'Double negative T cell', 'CD4 Memory', 'CD4 Memory',\n",
       "       'Double negative T cell', 'Double negative T cell',\n",
       "       'Double negative T cell', 'CD4 Memory', 'CD4 Memory',\n",
       "       'Double negative T cell', 'Double negative T cell',\n",
       "       'Double negative T cell', 'CD4 Memory', 'CD8 effector',\n",
       "       'CD4 Memory', 'CD4 Memory', 'Double negative T cell', 'CD4 Memory',\n",
       "       'Double negative T cell', 'Double negative T cell',\n",
       "       'Double negative T cell', 'Double negative T cell',\n",
       "       'Double negative T cell', 'Double negative T cell',\n",
       "       'Double negative T cell', 'Double negative T cell',\n",
       "       'Double negative T cell', 'CD4 Memory', 'CD8 effector',\n",
       "       'Double negative T cell', 'Double negative T cell',\n",
       "       'Double negative T cell', 'Double negative T cell', 'CD8 effector',\n",
       "       'CD4 Memory', 'Double negative T cell', 'CD4 Memory', 'CD4 Memory',\n",
       "       'Double negative T cell', 'CD4 Memory', 'CD4 Memory', 'CD4 Memory',\n",
       "       'Double negative T cell', 'CD4 Memory', 'CD4 Memory',\n",
       "       'Double negative T cell', 'CD4 Memory', 'Double negative T cell',\n",
       "       'CD8 effector', 'CD4 Memory', 'Double negative T cell',\n",
       "       'Double negative T cell', 'Double negative T cell',\n",
       "       'Double negative T cell', 'Double negative T cell', 'CD4 Memory',\n",
       "       'Double negative T cell', 'CD4 Memory', 'CD4 Memory', 'CD4 Memory',\n",
       "       'Double negative T cell', 'Double negative T cell',\n",
       "       'Double negative T cell'], dtype=object)"
      ]
     },
     "execution_count": 93,
     "metadata": {},
     "output_type": "execute_result"
    }
   ],
   "source": [
    "ixpred_full, dxpred_full = pairwise_distances_argmin_min(predicted_embedding,joint_embedding_amp)\n",
    "labels_projected_test_full = labels_modified[ixpred_full]\n",
    "labels_projected_test_full"
   ]
  },
  {
   "cell_type": "code",
   "execution_count": 94,
   "metadata": {},
   "outputs": [],
   "source": [
    "predicted_embeddings_set = pd.DataFrame(predicted_embedding)\n",
    "predicted_embeddings_set.to_csv('predicted_embeddings_set_full_set_rna.csv')\n",
    "\n",
    "labels_modified_store = pd.DataFrame(labels_modified)\n",
    "labels_modified_store.to_csv('labels_modified_pred_full_set_rna.csv')\n",
    "\n",
    "labels_projected_test_full_store = pd.DataFrame(labels_projected_test_full)\n",
    "labels_projected_test_full_store.to_csv('labels_projected_test_full_store_full_set_rna.csv')\n"
   ]
  },
  {
   "cell_type": "markdown",
   "metadata": {},
   "source": [
    "###  Prediction with full set of ATAC"
   ]
  },
  {
   "cell_type": "code",
   "execution_count": 96,
   "metadata": {},
   "outputs": [],
   "source": [
    "hat_R = (1/n) * np.diag(s_hat) @ V_x_t.T\n",
    "tilde_U = B_holdout @ hat_R.T @ np.linalg.inv(hat_R @ hat_R.T)\n",
    "tilde_U_embedding = tilde_U \n",
    "\n",
    "D_2 = np.diag(s_hat)\n",
    "matrix_adjustment_sigma_C = D_2 @ Sigmabar_x @ D_2\n",
    "matrix_adjustment_sigma_C = sp.linalg.sqrtm(matrix_adjustment_sigma_C)\n",
    "matrix_adjustment_sigma_C = np.linalg.inv(matrix_adjustment_sigma_C)\n",
    "\n",
    "mean_mat_C = np.identity(matrix_adjustment_sigma_C.shape[1])"
   ]
  },
  {
   "cell_type": "code",
   "execution_count": 97,
   "metadata": {},
   "outputs": [],
   "source": [
    "index = range(k_C)\n",
    "left_index = np.setdiff1d(range(k_B+k_C),index)\n",
    "M_pred_0 = np.array([np.hstack((np.zeros((k_B, k_A)), mean_mat_C, np.zeros((k_B, k_C))))])\n",
    "Sigma_pred_0 = np.array([matrix_adjustment_sigma_C])\n",
    "num_components = len(weights_joint)"
   ]
  },
  {
   "cell_type": "code",
   "execution_count": 98,
   "metadata": {},
   "outputs": [],
   "source": [
    "M_pred_1 = np.hstack((np.zeros((k_B, k_A)), mean_mat_C, np.zeros((k_B, k_C))))\n",
    "Sigma_pred_1 = matrix_adjustment_sigma_C\n",
    "m_prior_known = means_joint @ M_pred_1.T\n",
    "m_prior_unknown = means_joint\n",
    "cov_prior_comp_known = np.array([M_pred_1 @ cov_matrix @ M_pred_1.T + Sigma_pred_1 for cov_matrix in cov_joint])\n",
    "cov_prior_comp_unknown = np.array([cov_matrix for cov_matrix in cov_joint])\n",
    "cross_cov_unknown_known = np.array([cov_matrix @ M_pred_1.T for cov_matrix in cov_joint])\n"
   ]
  },
  {
   "cell_type": "code",
   "execution_count": 99,
   "metadata": {},
   "outputs": [],
   "source": [
    "alpha = 95\n",
    "index_1_pred = 0\n",
    "n_samples_pi = 500\n",
    "means_cond, cov_cond = predict_gmm_distr(tilde_U_embedding[index_1_pred,:], m_prior_known, m_prior_unknown, cov_prior_comp_known, cov_prior_comp_unknown, cross_cov_unknown_known)\n",
    "weights_pred = _get_W_gmm(tilde_U_embedding, means_joint, cov_joint, M_pred_0, Sigma_pred_0, weights_joint)[index_1_pred,:]\n",
    "hat_pred = np.average(means_cond, axis=0, weights=weights_pred)"
   ]
  },
  {
   "cell_type": "code",
   "execution_count": 100,
   "metadata": {},
   "outputs": [],
   "source": [
    "# Create a Gaussian Mixture Model\n",
    "gmm_temp = GaussianMixture(n_components=len(cov_cond), covariance_type='full')\n",
    "\n",
    "# Set means, covariances, and weights\n",
    "gmm_temp.means_ = means_cond\n",
    "gmm_temp.covariances_ = cov_cond\n",
    "gmm_temp.weights_ = weights_pred\n",
    "\n",
    "num_samples = 10000  # Adjust the number of samples as needed\n",
    "samples_A_cond, _ = gmm_temp.sample(num_samples)\n",
    "samples_A_cond = samples_A_cond\n",
    "samples_A_cond = samples_A_cond - hat_pred\n",
    "radius_large_sample = np.linalg.norm(samples_A_cond, axis=1)\n",
    "radius_cond_prot_pred = np.percentile(radius_large_sample,alpha) \n"
   ]
  },
  {
   "cell_type": "code",
   "execution_count": 101,
   "metadata": {},
   "outputs": [],
   "source": [
    "u_1_cond_mono_1 = np.random.randn(k_B+k_C+k_A,500) \n",
    "u_1_cond_mono_1 /= np.linalg.norm(u_1_cond_mono_1, axis=0)\n",
    "u_1_cond_mono_1 = u_1_cond_mono_1.T\n",
    "r_1_cond_mono_1 = np.random.uniform(0,radius_cond_prot_pred,500)    \n",
    "pred_noise_unobserved = r_1_cond_mono_1[:,np.newaxis] * u_1_cond_mono_1\n",
    "predicted_embedding = np.array(hat_pred + pred_noise_unobserved)\n",
    "   "
   ]
  },
  {
   "cell_type": "code",
   "execution_count": 102,
   "metadata": {},
   "outputs": [
    {
     "data": {
      "text/plain": [
       "array(['CD8 effector', 'CD8 effector', 'CD8 effector', 'CD8 effector',\n",
       "       'CD8 effector', 'CD8 effector', 'CD8 effector', 'CD8 effector',\n",
       "       'CD8 effector', 'CD8 effector', 'CD8 effector', 'CD8 effector',\n",
       "       'CD8 effector', 'CD8 effector', 'CD8 effector', 'CD8 effector',\n",
       "       'CD8 effector', 'CD8 effector', 'CD8 effector', 'CD8 effector',\n",
       "       'CD8 effector', 'CD8 effector', 'CD8 effector', 'CD8 effector',\n",
       "       'CD8 effector', 'CD8 effector', 'CD8 effector', 'CD8 effector',\n",
       "       'CD8 effector', 'CD8 effector', 'CD8 effector', 'CD8 effector',\n",
       "       'CD8 effector', 'CD8 effector', 'CD8 effector', 'CD8 effector',\n",
       "       'CD8 effector', 'CD8 effector', 'CD8 effector', 'CD8 effector',\n",
       "       'CD8 effector', 'CD8 effector', 'CD8 effector', 'CD8 effector',\n",
       "       'CD8 effector', 'CD8 effector', 'CD8 effector', 'CD8 effector',\n",
       "       'CD8 effector', 'CD8 effector', 'CD8 effector', 'CD8 effector',\n",
       "       'CD8 effector', 'CD8 effector', 'CD8 effector', 'CD8 effector',\n",
       "       'CD8 effector', 'CD8 effector', 'CD8 effector', 'CD8 effector',\n",
       "       'CD8 effector', 'CD8 effector', 'CD8 effector', 'CD8 effector',\n",
       "       'CD8 effector', 'CD8 effector', 'CD8 effector', 'CD8 effector',\n",
       "       'CD8 effector', 'CD8 effector', 'CD8 effector', 'CD8 effector',\n",
       "       'CD8 effector', 'CD8 effector', 'CD8 effector', 'CD8 effector',\n",
       "       'CD8 effector', 'CD8 effector', 'CD8 effector', 'CD8 effector',\n",
       "       'CD8 effector', 'CD8 effector', 'CD8 effector', 'CD8 effector',\n",
       "       'CD8 effector', 'CD8 effector', 'CD8 effector', 'CD8 effector',\n",
       "       'CD8 effector', 'CD8 effector', 'CD8 effector', 'CD8 effector',\n",
       "       'CD8 effector', 'CD8 effector', 'CD8 effector', 'CD8 effector',\n",
       "       'CD8 effector', 'CD8 effector', 'CD8 effector', 'CD8 effector',\n",
       "       'CD8 effector', 'CD8 effector', 'CD8 effector', 'CD8 effector',\n",
       "       'CD8 effector', 'CD8 effector', 'CD8 effector', 'CD8 effector',\n",
       "       'CD8 effector', 'CD8 effector', 'CD8 effector', 'CD8 effector',\n",
       "       'CD8 effector', 'CD8 effector', 'CD8 effector', 'CD8 effector',\n",
       "       'CD8 effector', 'CD8 effector', 'CD8 effector', 'CD8 effector',\n",
       "       'CD8 effector', 'CD8 effector', 'CD8 effector', 'CD8 effector',\n",
       "       'CD8 effector', 'CD8 effector', 'CD8 effector', 'CD8 effector',\n",
       "       'CD8 effector', 'CD8 effector', 'CD8 effector', 'CD8 effector',\n",
       "       'CD8 effector', 'CD8 effector', 'CD8 effector', 'CD8 effector',\n",
       "       'CD8 effector', 'CD8 effector', 'CD8 effector', 'CD8 effector',\n",
       "       'CD8 effector', 'CD8 effector', 'CD8 effector', 'CD8 effector',\n",
       "       'CD8 effector', 'CD8 effector', 'CD8 effector', 'CD8 effector',\n",
       "       'CD8 effector', 'CD8 effector', 'CD8 effector', 'CD8 effector',\n",
       "       'CD8 effector', 'CD8 effector', 'CD8 effector', 'CD8 effector',\n",
       "       'CD8 effector', 'CD8 effector', 'CD8 effector', 'CD8 effector',\n",
       "       'CD8 effector', 'CD8 effector', 'CD8 effector', 'CD8 effector',\n",
       "       'CD8 effector', 'CD8 effector', 'CD8 effector', 'CD8 effector',\n",
       "       'CD8 effector', 'CD8 effector', 'CD8 effector', 'CD8 effector',\n",
       "       'CD8 effector', 'CD8 effector', 'CD8 effector', 'CD8 effector',\n",
       "       'CD8 effector', 'CD8 effector', 'CD8 effector', 'CD8 effector',\n",
       "       'CD8 effector', 'CD8 effector', 'CD8 effector', 'CD8 effector',\n",
       "       'CD8 effector', 'CD8 effector', 'CD8 effector', 'CD8 effector',\n",
       "       'CD8 effector', 'CD8 effector', 'CD8 effector', 'CD8 effector',\n",
       "       'CD8 effector', 'CD8 effector', 'CD8 effector', 'CD8 effector',\n",
       "       'CD8 effector', 'CD8 effector', 'CD8 effector', 'CD8 effector',\n",
       "       'CD8 effector', 'CD8 effector', 'CD8 effector', 'CD8 effector',\n",
       "       'CD4 Memory', 'CD8 effector', 'CD8 effector', 'CD8 effector',\n",
       "       'CD8 effector', 'CD8 effector', 'CD8 effector', 'CD8 effector',\n",
       "       'CD8 effector', 'CD8 effector', 'CD8 effector', 'CD8 effector',\n",
       "       'CD8 effector', 'CD8 effector', 'CD8 effector', 'CD8 effector',\n",
       "       'CD8 effector', 'CD8 effector', 'CD8 effector', 'CD8 effector',\n",
       "       'CD8 effector', 'CD8 effector', 'CD8 effector', 'CD8 effector',\n",
       "       'CD8 effector', 'CD8 effector', 'CD8 effector', 'CD8 effector',\n",
       "       'CD8 effector', 'CD8 effector', 'CD8 effector', 'CD8 effector',\n",
       "       'CD8 effector', 'CD4 Memory', 'CD8 effector', 'CD8 effector',\n",
       "       'CD8 effector', 'CD8 effector', 'CD8 effector', 'CD8 effector',\n",
       "       'CD8 effector', 'CD8 effector', 'CD8 effector', 'CD8 effector',\n",
       "       'CD8 effector', 'CD8 effector', 'CD8 effector', 'CD8 effector',\n",
       "       'CD8 effector', 'CD8 effector', 'CD8 effector', 'CD8 effector',\n",
       "       'CD8 effector', 'CD8 effector', 'CD8 effector', 'CD8 effector',\n",
       "       'CD8 effector', 'CD8 effector', 'CD8 effector', 'CD8 effector',\n",
       "       'CD8 effector', 'CD8 effector', 'CD8 effector', 'CD8 effector',\n",
       "       'CD8 effector', 'CD8 effector', 'CD8 effector', 'CD8 effector',\n",
       "       'CD4 Memory', 'CD8 effector', 'CD8 effector', 'CD8 effector',\n",
       "       'CD8 effector', 'CD8 effector', 'CD8 effector', 'CD8 effector',\n",
       "       'CD8 effector', 'CD8 effector', 'CD8 effector', 'CD8 effector',\n",
       "       'CD8 effector', 'CD8 effector', 'CD4 Memory', 'CD8 effector',\n",
       "       'CD8 effector', 'CD8 effector', 'CD8 effector', 'CD8 effector',\n",
       "       'CD8 effector', 'CD8 effector', 'CD8 effector', 'CD4 Memory',\n",
       "       'CD8 effector', 'CD8 effector', 'CD8 effector', 'CD8 effector',\n",
       "       'CD8 effector', 'CD8 effector', 'CD8 effector', 'CD8 effector',\n",
       "       'CD8 effector', 'CD8 effector', 'CD8 effector', 'CD8 effector',\n",
       "       'CD8 effector', 'CD8 effector', 'CD8 effector', 'CD8 effector',\n",
       "       'CD8 effector', 'CD8 effector', 'CD8 effector', 'CD8 effector',\n",
       "       'CD8 effector', 'CD8 effector', 'CD8 effector', 'CD8 effector',\n",
       "       'CD8 effector', 'CD8 effector', 'CD8 effector', 'CD8 effector',\n",
       "       'CD8 effector', 'CD8 effector', 'CD8 effector', 'CD8 effector',\n",
       "       'CD8 effector', 'CD8 effector', 'CD8 effector', 'CD8 effector',\n",
       "       'CD8 effector', 'CD8 effector', 'CD8 effector', 'CD8 effector',\n",
       "       'CD8 effector', 'CD8 effector', 'CD8 effector', 'CD8 effector',\n",
       "       'CD8 effector', 'CD8 effector', 'CD8 effector', 'CD8 effector',\n",
       "       'CD8 effector', 'CD8 effector', 'CD8 effector', 'CD8 effector',\n",
       "       'CD8 effector', 'CD8 effector', 'CD8 effector', 'CD8 effector',\n",
       "       'CD8 effector', 'CD4 Memory', 'CD8 effector', 'CD8 effector',\n",
       "       'CD8 effector', 'CD8 effector', 'CD8 effector', 'CD8 effector',\n",
       "       'CD8 effector', 'CD8 effector', 'CD8 effector', 'CD8 effector',\n",
       "       'CD8 effector', 'CD8 effector', 'CD8 effector', 'CD8 effector',\n",
       "       'CD8 effector', 'CD8 effector', 'CD8 effector', 'CD8 effector',\n",
       "       'CD8 effector', 'CD8 effector', 'CD8 effector', 'CD8 effector',\n",
       "       'CD8 effector', 'CD8 effector', 'CD8 effector', 'CD8 effector',\n",
       "       'CD8 effector', 'CD8 effector', 'CD8 effector', 'CD8 effector',\n",
       "       'CD8 effector', 'CD8 effector', 'CD8 effector', 'CD8 effector',\n",
       "       'CD8 effector', 'CD8 effector', 'CD8 effector', 'CD8 effector',\n",
       "       'CD8 effector', 'CD8 effector', 'CD8 effector', 'CD8 effector',\n",
       "       'CD8 effector', 'CD4 Memory', 'CD8 effector', 'CD8 effector',\n",
       "       'CD8 effector', 'CD8 effector', 'CD8 effector', 'CD8 effector',\n",
       "       'CD8 effector', 'CD8 effector', 'CD8 effector', 'CD4 Memory',\n",
       "       'CD8 effector', 'CD8 effector', 'CD8 effector', 'CD8 effector',\n",
       "       'CD8 effector', 'CD8 effector', 'CD8 effector', 'CD8 effector',\n",
       "       'CD8 effector', 'CD8 effector', 'CD8 effector', 'CD8 effector',\n",
       "       'CD8 effector', 'CD8 effector', 'CD8 effector', 'CD8 effector',\n",
       "       'CD8 effector', 'CD4 Memory', 'CD8 effector', 'CD8 effector',\n",
       "       'CD8 effector', 'CD8 effector', 'CD8 effector', 'CD8 effector',\n",
       "       'CD8 effector', 'CD8 effector', 'CD8 effector', 'CD8 effector',\n",
       "       'CD8 effector', 'CD8 effector', 'CD4 Memory', 'CD8 effector',\n",
       "       'CD8 effector', 'CD8 effector', 'CD8 effector', 'CD8 effector',\n",
       "       'CD8 effector', 'CD8 effector', 'CD8 effector', 'CD8 effector',\n",
       "       'CD8 effector', 'CD8 effector', 'CD8 effector', 'CD8 effector',\n",
       "       'CD8 effector', 'CD8 effector', 'CD8 effector', 'CD8 effector',\n",
       "       'CD8 effector', 'CD8 effector', 'CD8 effector', 'CD8 effector',\n",
       "       'CD8 effector', 'CD8 effector', 'CD8 effector', 'CD8 effector',\n",
       "       'CD8 effector', 'CD8 effector', 'CD8 effector', 'CD8 effector',\n",
       "       'CD8 effector', 'CD8 effector', 'CD8 effector', 'CD8 effector',\n",
       "       'CD8 effector', 'CD8 effector', 'CD8 effector', 'CD8 effector',\n",
       "       'CD8 effector', 'CD8 effector', 'CD8 effector', 'CD8 effector',\n",
       "       'CD8 effector', 'CD8 effector', 'CD8 effector', 'CD8 effector',\n",
       "       'CD8 effector', 'CD8 effector', 'CD8 effector', 'CD8 effector',\n",
       "       'CD8 effector', 'CD8 effector', 'CD8 effector', 'CD8 effector',\n",
       "       'CD8 effector', 'CD8 effector', 'CD8 effector', 'CD8 effector',\n",
       "       'CD8 effector', 'CD8 effector', 'CD8 effector', 'CD8 effector'],\n",
       "      dtype=object)"
      ]
     },
     "execution_count": 102,
     "metadata": {},
     "output_type": "execute_result"
    }
   ],
   "source": [
    "ixpred_full, dxpred_full = pairwise_distances_argmin_min(predicted_embedding,joint_embedding_amp)\n",
    "labels_projected_test_full = labels_modified[ixpred_full]\n",
    "labels_projected_test_full"
   ]
  },
  {
   "cell_type": "code",
   "execution_count": 104,
   "metadata": {},
   "outputs": [],
   "source": [
    "predicted_embeddings_set = pd.DataFrame(predicted_embedding)\n",
    "predicted_embeddings_set.to_csv('predicted_embeddings_set_full_set_atac.csv')\n",
    "\n",
    "labels_modified_store = pd.DataFrame(labels_modified)\n",
    "labels_modified_store.to_csv('labels_modified_pred_full_set_atac.csv')\n",
    "\n",
    "labels_projected_test_full_store = pd.DataFrame(labels_projected_test_full)\n",
    "labels_projected_test_full_store.to_csv('labels_projected_test_full_store_full_set_atac.csv')\n"
   ]
  },
  {
   "cell_type": "code",
   "execution_count": null,
   "metadata": {},
   "outputs": [],
   "source": []
  },
  {
   "cell_type": "code",
   "execution_count": null,
   "metadata": {},
   "outputs": [],
   "source": []
  },
  {
   "cell_type": "code",
   "execution_count": null,
   "metadata": {},
   "outputs": [],
   "source": []
  },
  {
   "cell_type": "code",
   "execution_count": null,
   "metadata": {},
   "outputs": [],
   "source": []
  },
  {
   "cell_type": "code",
   "execution_count": null,
   "metadata": {},
   "outputs": [],
   "source": []
  },
  {
   "cell_type": "code",
   "execution_count": null,
   "metadata": {},
   "outputs": [],
   "source": []
  }
 ],
 "metadata": {
  "kernelspec": {
   "display_name": "cosvdnew",
   "language": "python",
   "name": "python3"
  },
  "language_info": {
   "codemirror_mode": {
    "name": "ipython",
    "version": 3
   },
   "file_extension": ".py",
   "mimetype": "text/x-python",
   "name": "python",
   "nbconvert_exporter": "python",
   "pygments_lexer": "ipython3",
   "version": "3.9.19"
  },
  "orig_nbformat": 4
 },
 "nbformat": 4,
 "nbformat_minor": 2
}
