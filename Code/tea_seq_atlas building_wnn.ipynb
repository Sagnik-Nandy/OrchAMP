{
 "cells": [
  {
   "cell_type": "code",
   "execution_count": 1,
   "metadata": {},
   "outputs": [],
   "source": [
    "import sys\n",
    "from abc import ABC, abstractmethod\n",
    "import warnings\n",
    "\n",
    "import numpy as np\n",
    "from scipy import optimize\n",
    "import matplotlib as mpl\n",
    "from matplotlib import rcParams\n",
    "import matplotlib.pyplot as plt\n",
    "import scipy as sp\n",
    "from scipy.stats import multivariate_normal\n",
    "import scanpy as scp\n",
    "from sklearn.neighbors import NearestNeighbors\n",
    "from sklearn.mixture import GaussianMixture\n",
    "import random\n",
    "import operator\n",
    "import statsmodels.api as sm\n",
    "\n",
    "\n",
    "import pandas as pd\n",
    "import harmonypy as hm\n",
    "from time import time\n",
    "import seaborn as sns\n",
    "import string\n",
    "\n",
    "from sklearn.datasets import make_blobs\n",
    "from sklearn.cluster import KMeans\n",
    "from sklearn.metrics import silhouette_score\n",
    "from sklearn.metrics import pairwise_distances_argmin_min\n",
    "from sklearn.preprocessing import StandardScaler\n",
    "from econml.sklearn_extensions.linear_model import DebiasedLasso as dbl\n",
    "\n",
    "from scipy.io import mmread\n",
    "from scipy.sparse.linalg import svds\n",
    "from sklearn.utils.extmath import randomized_svd\n",
    "import umap.umap_ as umap\n",
    "from itertools import permutations\n",
    "\n",
    "import rpy2.rinterface_lib.callbacks\n",
    "import logging\n",
    "\n",
    "from rpy2.robjects.packages import importr\n",
    "base = importr('base')\n",
    "utils = importr('utils')\n",
    "Matrix = importr('Matrix')\n",
    "#seurat = importr('Seurat')\n",
    "stats = importr('stats')\n",
    "\n",
    "warnings.filterwarnings('ignore', category=DeprecationWarning) "
   ]
  },
  {
   "cell_type": "code",
   "execution_count": 2,
   "metadata": {},
   "outputs": [
    {
     "data": {
      "image/png": "[encoded data removed]",
      "text/plain": [
       "<Figure size 1100x100 with 1 Axes>"
      ]
     },
     "metadata": {},
     "output_type": "display_data"
    }
   ],
   "source": [
    "my_favourote_palette = ['#C0C0C0','#0000FF','#800080','#FFC0CB','#00FFFF','#FF0000','#00827F','#4B5320','#C04000','#F67280','#FF77FF']\n",
    "sns.palplot(sns.color_palette(my_favourote_palette))\n",
    "customPalette = sns.set_palette(sns.color_palette(my_favourote_palette))"
   ]
  },
  {
   "cell_type": "code",
   "execution_count": 3,
   "metadata": {},
   "outputs": [],
   "source": [
    "def nearPSD(A,epsilon=0):\n",
    "   n = A.shape[0]\n",
    "   eigval, eigvec = np.linalg.eig(A)\n",
    "   val = np.matrix(np.maximum(eigval,1e-4))\n",
    "   vec = np.matrix(eigvec)\n",
    "   T = 1/(np.multiply(vec,vec) * val.T)\n",
    "   T = np.matrix(np.sqrt(np.diag(np.array(T).reshape((n)) )))\n",
    "   B = T * vec * np.diag(np.array(np.sqrt(val)).reshape((n)))\n",
    "   out = B*B.T\n",
    "   return(out)"
   ]
  },
  {
   "cell_type": "code",
   "execution_count": 4,
   "metadata": {},
   "outputs": [],
   "source": [
    "def invreg(original_matrix, epsilon=1e-3):\n",
    "    \"\"\"\n",
    "    Invert a matrix with regularization to avoid singularity.\n",
    "\n",
    "    Parameters:\n",
    "    - original_matrix: Input matrix to be inverted.\n",
    "    - epsilon: Small value for regularization.\n",
    "\n",
    "    Returns:\n",
    "    - inverted_matrix: Inverted matrix.\n",
    "    \"\"\"\n",
    "\n",
    "    # Adding a small diagonal matrix to avoid singularity\n",
    "    diagonal_matrix = epsilon * np.eye(original_matrix.shape[0])\n",
    "    regularized_matrix = original_matrix + diagonal_matrix\n",
    "\n",
    "    # Invert the regularized matrix\n",
    "    inverted_matrix = np.linalg.inv(regularized_matrix)\n",
    "\n",
    "    return inverted_matrix"
   ]
  },
  {
   "cell_type": "code",
   "execution_count": 5,
   "metadata": {},
   "outputs": [],
   "source": [
    "def replace_zeros_with_small_number(array, small_number=1e-30):\n",
    "    \"\"\"\n",
    "    Replace zero values in a NumPy array with a very small number.\n",
    "\n",
    "    Parameters:\n",
    "    - array: NumPy array.\n",
    "    - small_number: The small number to replace zero values with. Default is 1e-10.\n",
    "\n",
    "    Returns:\n",
    "    - Modified NumPy array with zero values replaced.\n",
    "    \"\"\"\n",
    "    array[array == 0] = small_number\n",
    "    return array"
   ]
  },
  {
   "cell_type": "markdown",
   "metadata": {},
   "source": [
    "# Utils Function"
   ]
  },
  {
   "cell_type": "code",
   "execution_count": 6,
   "metadata": {},
   "outputs": [],
   "source": [
    "def machineEpsilon(func=float):\n",
    "    machine_epsilon = func(1)\n",
    "    while func(1)+func(machine_epsilon) != func(1):\n",
    "        machine_epsilon_last = machine_epsilon\n",
    "        machine_epsilon = func(machine_epsilon) / func(2)\n",
    "    return machine_epsilon_last"
   ]
  },
  {
   "cell_type": "code",
   "execution_count": 7,
   "metadata": {},
   "outputs": [],
   "source": [
    "# Creates a UMAP visualization of high dimensional data\n",
    "## Input: Feature set, labels, colors of clusters\n",
    "## Output: UMAP plot\n",
    "\n",
    "def umap_visualize(arr, labels, palette=\"hls\"):\n",
    "    u = umap.UMAP().fit_transform(\n",
    "        arr\n",
    "    )\n",
    "    umap_data = pd.DataFrame({'u0': u[:, 0], 'u1': u[:, 1], 'label': labels})\n",
    "    sns.scatterplot(data=umap_data, x='u0', y='u1', hue='label', palette=palette)\n",
    "    plt.legend(bbox_to_anchor=(1.05, 1), loc='upper left', borderaxespad=0)"
   ]
  },
  {
   "cell_type": "code",
   "execution_count": 11,
   "metadata": {},
   "outputs": [],
   "source": [
    "# Divides a row by its sum and sclaes it to a reference value\n",
    "## Input: Frow to be sclaed, reference value\n",
    "## Output: scaled row\n",
    "\n",
    "def normalize_vector(v, scale_factor):\n",
    "    return (v / np.sum(v)) * scale_factor"
   ]
  },
  {
   "cell_type": "code",
   "execution_count": 12,
   "metadata": {},
   "outputs": [],
   "source": [
    "# Normalizes given cell by features matrix to remove sequencing depth irregularities\n",
    "## Input: Matrix to be normalized and scaled\n",
    "## Output: Normalized matrix\n",
    "\n",
    "def normalize_data_matrix(A, scale_factor):\n",
    "    A_temp = np.apply_along_axis(np.log1p, 1, A)\n",
    "    A_temp = np.apply_along_axis(normalize_vector, 1, A_temp, scale_factor)  \n",
    "    return A_temp"
   ]
  },
  {
   "cell_type": "code",
   "execution_count": 13,
   "metadata": {},
   "outputs": [],
   "source": [
    "### Corrects Singular Values\n",
    "\n",
    "def _convert_singular_val(y, gamma):\n",
    "    under_sqrt = (gamma * y ** 2 - (1 + gamma)) ** 2 - 4 * gamma\n",
    "    t = np.zeros(len(under_sqrt))\n",
    "    where_positive = np.where(y >= 0)[0]\n",
    "    where_negative = np.where(y < 0)[0]\n",
    "    t[where_positive] = (gamma * y[where_positive] ** 2 - (1 + gamma) + np.sqrt(under_sqrt[where_positive]))/ (2 * gamma)\n",
    "    t[where_negative] = y[where_negative] \n",
    "    return np.sqrt(t)"
   ]
  },
  {
   "cell_type": "code",
   "execution_count": 14,
   "metadata": {},
   "outputs": [],
   "source": [
    "# Generate support of the prior by k-means\n",
    "## Input: feature matrix, number of clusters, mean\n",
    "## Output: set of support points\n",
    "\n",
    "def extract_support(feature, k, mu, do_k_means):\n",
    "    if do_k_means == 0:\n",
    "        support = feature.dot(np.linalg.pinv(mu).T)\n",
    "        return support \n",
    "    else:\n",
    "        scaler = StandardScaler()\n",
    "        scaled_features = scaler.fit_transform(feature)\n",
    "        kmeans = KMeans(\n",
    "         init = \"random\",\n",
    "         n_clusters = k,\n",
    "         n_init = 10,\n",
    "         max_iter = 300,\n",
    "         random_state = 42\n",
    "         )\n",
    "        kmeans.fit(scaled_features)\n",
    "        cen = kmeans.cluster_centers_\n",
    "        support = cen.dot(np.linalg.pinv(mu).T)\n",
    "        return support"
   ]
  },
  {
   "cell_type": "code",
   "execution_count": 15,
   "metadata": {},
   "outputs": [],
   "source": [
    "def sqrtmplaw(x, n_samples = 0, n_features = 0):\n",
    "    '''we require the noise variance to be 1/n_samples\n",
    "    '''\n",
    "    aspect_ratio = n_features/n_samples\n",
    "    lambda_plus = (1+np.sqrt(aspect_ratio))**2\n",
    "    lambda_minus = (1 - np.sqrt(aspect_ratio))**2\n",
    "    if x < lambda_minus or x > lambda_plus:\n",
    "        return 0\n",
    "    else: \n",
    "        return 1/(np.pi * aspect_ratio * x) * np.sqrt((lambda_plus - x)*(x - lambda_minus))\n",
    "\n",
    "def sqrtMPlaw(arr, n, p):\n",
    "    return [sqrtmplaw(x, n, p) for x in arr]"
   ]
  },
  {
   "cell_type": "markdown",
   "metadata": {},
   "source": [
    "# Data Preprocessing"
   ]
  },
  {
   "cell_type": "code",
   "execution_count": 16,
   "metadata": {},
   "outputs": [],
   "source": [
    "## Read the protein data\n",
    "\n",
    "data_protein = utils.read_csv('cleaned_adt_tea_seq.csv')\n",
    "data_protein = pd.DataFrame(data_protein)\n",
    "A = data_protein.to_numpy()\n",
    "A = A.T\n",
    "A = np.delete(A, obj = 0, axis = 1)\n",
    "A = A.astype('float64')\n",
    "\n",
    "## Determining the factor to scale the data \n",
    "scale_factor_A = round(np.median(A.sum(axis = 1)), -3)\n",
    "\n",
    "## Normalize the reduced data matrix\n",
    "\n",
    "A = normalize_data_matrix(A, scale_factor_A)\n",
    "\n",
    "# Select 40 highly variable proteins\n",
    "var_up_A = np.var(A, axis = 0)\n",
    "ind_up_A = np.argpartition(var_up_A, -40)[-40:]\n",
    "A = A[:,ind_up_A]\n",
    "\n",
    "## Centering A\n",
    "\n",
    "mean_A = np.mean(A, axis=0)\n",
    "A = A - mean_A\n"
   ]
  },
  {
   "cell_type": "code",
   "execution_count": 17,
   "metadata": {},
   "outputs": [
    {
     "data": {
      "text/plain": [
       "<Axes: >"
      ]
     },
     "execution_count": 17,
     "metadata": {},
     "output_type": "execute_result"
    },
    {
     "data": {
      "image/png": "[encoded data removed]",
      "text/plain": [
       "<Figure size 640x480 with 1 Axes>"
      ]
     },
     "metadata": {},
     "output_type": "display_data"
    }
   ],
   "source": [
    "## Studying the dominant atac PC's\n",
    "\n",
    "U1_init_ad, S1_init_ad, V1_init_ad = np.linalg.svd(A, full_matrices = False)\n",
    "plot_svd_ad = S1_init_ad[:30]\n",
    "sns.scatterplot(data = plot_svd_ad) "
   ]
  },
  {
   "cell_type": "code",
   "execution_count": 18,
   "metadata": {},
   "outputs": [],
   "source": [
    "## Preprocessing for testing\n",
    "k_A = 10\n",
    "U_A_adj, S_A_adj, V_A_adj = np.linalg.svd(A, full_matrices = False)\n",
    "A_readjusted = U_A_adj[:,:k_A] @ np.diag(S_A_adj[:k_A]) \n",
    "projector_A = V_A_adj[:k_A,:]\n",
    "A_original = A\n",
    "A = A_readjusted"
   ]
  },
  {
   "cell_type": "code",
   "execution_count": 19,
   "metadata": {},
   "outputs": [],
   "source": [
    "## Compute estimate of L\n",
    "\n",
    "cov_A = (1 / A.shape[0]) * A.T @ A\n",
    "L_rough = cov_A - np.identity(A.shape[1])\n",
    "val, vec = np.linalg.eig(L_rough)\n",
    "diag_adjust = np.diag(np.sqrt(val))\n",
    "L = vec @ diag_adjust"
   ]
  },
  {
   "cell_type": "code",
   "execution_count": 20,
   "metadata": {},
   "outputs": [],
   "source": [
    "## Reading in atac Data\n",
    "\n",
    "data_atac = scp.read_h5ad('cleaned_atac_reads_tea_seq.h5ad')\n",
    "B_raw = data_atac.X\n",
    "B_raw = pd.DataFrame(B_raw)\n",
    "B_raw = B_raw.to_numpy()\n",
    "B_raw = B_raw.T\n",
    "\n",
    "## Rescaling the matrix to get 1/sqrt(n) scaling\n",
    "\n",
    "B = B_raw / np.sqrt(B_raw.shape[0])\n",
    "B = B.astype('float64')"
   ]
  },
  {
   "cell_type": "code",
   "execution_count": 21,
   "metadata": {},
   "outputs": [],
   "source": [
    "## Reading in RNA Data\n",
    "\n",
    "data_rna = scp.read_h5ad('cleaned_rna_reads_tea_seq.h5ad')\n",
    "C_raw = data_rna.X\n",
    "C_raw = pd.DataFrame(C_raw)\n",
    "C_raw = C_raw.to_numpy()\n",
    "C_raw = C_raw.T\n",
    "\n",
    "## Rescaling the matrix to get 1/sqrt(n) scaling\n",
    "\n",
    "C = C_raw / np.sqrt(C_raw.shape[0])\n",
    "C = C.astype('float64')\n"
   ]
  },
  {
   "cell_type": "code",
   "execution_count": 22,
   "metadata": {},
   "outputs": [
    {
     "data": {
      "image/png": "[encoded data removed]",
      "text/plain": [
       "<Figure size 640x480 with 1 Axes>"
      ]
     },
     "metadata": {},
     "output_type": "display_data"
    }
   ],
   "source": [
    "## Studying the dominant atac PC's\n",
    "\n",
    "U1_init_bn, S1_init_bn, V1_init_bn = np.linalg.svd(B, full_matrices = False)\n",
    "plot_svd = S1_init_bn[:30]\n",
    "sns.scatterplot(data = plot_svd) \n",
    "plt.xlabel('Index of Singular Value')\n",
    "plt.ylabel('Singular Value')\n",
    "plt.title('ATAC Singular Values')\n",
    "plt.show()\n"
   ]
  },
  {
   "cell_type": "code",
   "execution_count": null,
   "metadata": {},
   "outputs": [],
   "source": [
    "## Correcting for the noise variance\n",
    "\n",
    "k_B = 10\n",
    "n_features_B = B.shape[1]\n",
    "n_samples_B = B.shape[0]\n",
    "B_residual = B-U1_init_bn[:,:k_B] @ np.diag(S1_init_bn[:k_B]) @ V1_init_bn[:k_B,:]\n",
    "tau_sq_correct_B = np.sum(B_residual**2) / n_features_B "
   ]
  },
  {
   "cell_type": "code",
   "execution_count": 24,
   "metadata": {},
   "outputs": [
    {
     "data": {
      "text/plain": [
       "<Axes: >"
      ]
     },
     "execution_count": 24,
     "metadata": {},
     "output_type": "execute_result"
    },
    {
     "data": {
      "image/png": "[encoded data removed]",
      "text/plain": [
       "<Figure size 640x480 with 1 Axes>"
      ]
     },
     "metadata": {},
     "output_type": "display_data"
    }
   ],
   "source": [
    "## Studying the dominant rna PC's\n",
    "\n",
    "U2_init_bn, S2_init_bn, V2_init_bn = np.linalg.svd(C, full_matrices = False)\n",
    "plot_svd = S2_init_bn[:30]\n",
    "sns.scatterplot(data = plot_svd) "
   ]
  },
  {
   "cell_type": "code",
   "execution_count": null,
   "metadata": {},
   "outputs": [],
   "source": [
    "## Correcting for the noise variance\n",
    "\n",
    "k_C = 15\n",
    "n_features_C = C.shape[1]\n",
    "n_samples_C = C.shape[0]\n",
    "C_residual = C-U2_init_bn[:,:k_C] @ np.diag(S2_init_bn[:k_C]) @ V2_init_bn[:k_C,:]\n",
    "tau_sq_correct_C = np.sum(C_residual**2) / n_features_C "
   ]
  },
  {
   "cell_type": "code",
   "execution_count": 26,
   "metadata": {},
   "outputs": [],
   "source": [
    "# Rescale the data matrices\n",
    "\n",
    "A_reduced = A\n",
    "B_reduced = B / np.sqrt(tau_sq_correct_B)\n",
    "C_reduced = C / np.sqrt(tau_sq_correct_C)"
   ]
  },
  {
   "cell_type": "code",
   "execution_count": 27,
   "metadata": {},
   "outputs": [],
   "source": [
    "# Clean up the meta data\n",
    "\n",
    "meta = utils.read_csv('cleaned_cell_labels_meta_tea_seq.csv')\n",
    "meta = pd.DataFrame(meta)\n",
    "meta = meta.T\n",
    "meta = meta.to_numpy()\n",
    "meta = np.delete(meta, obj = 0, axis = 1)\n",
    "labels = meta.flatten(order='C')"
   ]
  },
  {
   "cell_type": "code",
   "execution_count": 28,
   "metadata": {},
   "outputs": [],
   "source": [
    "seed = 10"
   ]
  },
  {
   "cell_type": "code",
   "execution_count": 29,
   "metadata": {},
   "outputs": [],
   "source": [
    "## Aspect Ratios\n",
    "\n",
    "gamma_1 = B_reduced.shape[1]/B_reduced.shape[0]\n",
    "gamma_2 = C_reduced.shape[1]/C_reduced.shape[0]"
   ]
  },
  {
   "cell_type": "code",
   "execution_count": 37,
   "metadata": {},
   "outputs": [],
   "source": [
    "## Compute Singular Value Decomposition of B for WNN\n",
    "\n",
    "k_wnn = 50\n",
    "\n",
    "U1_init_wnn, S1_init_wnn, V1_init_wnn = np.linalg.svd(B_reduced, full_matrices = False)\n",
    "s_hat_wnn = S1_init_wnn[:k_wnn] / np.sqrt(gamma_1)\n",
    "S_hat_wnn = np.diag(s_hat_wnn)\n",
    "\n",
    "sigma_x_wnn = (1 + gamma_1 * s_hat_wnn ** 2) / (gamma_1 * s_hat_wnn ** 2 * (s_hat_wnn ** 2 + 1))\n",
    "mu_x_wnn = np.sqrt(1 - sigma_x_wnn)\n",
    "sigmabar_x_wnn = (1 + s_hat_wnn ** 2) / (s_hat_wnn ** 2 * (gamma_1 * s_hat_wnn ** 2 + 1))\n",
    "mubar_x_wnn = np.sqrt(1 - sigmabar_x_wnn)\n",
    "\n",
    "# initialize M0 and Q0 for X\n",
    "\n",
    "M_0_x_wnn = np.diag(mu_x_wnn)\n",
    "Sigma_0_x_wnn = np.diag(sigma_x_wnn)\n",
    "M_bar_x_wnn = np.diag(mubar_x_wnn)\n",
    "Sigma_bar_x_wnn = np.diag(sigmabar_x_wnn)"
   ]
  },
  {
   "cell_type": "code",
   "execution_count": 38,
   "metadata": {},
   "outputs": [],
   "source": [
    "## Compute Singular Value Decomposition of C for WNN\n",
    "\n",
    "k_2_wnn = 50\n",
    "\n",
    "U2_init_wnn, S2_init_wnn, V2_init_wnn = np.linalg.svd(C_reduced, full_matrices = False)\n",
    "s_tilde_wnn = S2_init_wnn[0:k_2_wnn] / np.sqrt(gamma_2)\n",
    "S_tilde_wnn = np.diag(s_tilde_wnn)\n",
    "\n",
    "sigma_y_wnn = (1 + gamma_2 * s_tilde_wnn ** 2) / (gamma_2 * s_tilde_wnn ** 2 * (s_tilde_wnn ** 2 + 1))\n",
    "mu_y_wnn = np.sqrt(1 - sigma_y_wnn)\n",
    "sigmabar_y_wnn = (1 + s_tilde_wnn ** 2) / (s_tilde_wnn ** 2 * (gamma_2 * s_tilde_wnn ** 2 + 1))\n",
    "mubar_y_wnn = np.sqrt(1 - sigmabar_y_wnn)\n",
    "\n",
    "# initialize M0 and Q0 for Y\n",
    "\n",
    "M_0_y_wnn = np.diag(mu_y_wnn)\n",
    "Sigma_0_y_wnn = np.diag(sigma_y_wnn)\n",
    "M_bar_y_wnn = np.diag(mubar_y_wnn)\n",
    "Sigma_bar_y_wnn = np.diag(sigmabar_y_wnn)"
   ]
  },
  {
   "cell_type": "code",
   "execution_count": 39,
   "metadata": {},
   "outputs": [],
   "source": [
    "n = B_reduced.shape[0]; p_1 = B_reduced.shape[1]; p_2 = C_reduced.shape[1]"
   ]
  },
  {
   "cell_type": "code",
   "execution_count": 40,
   "metadata": {},
   "outputs": [],
   "source": [
    "## Scaling of the singular vectors of B and C for wnn\n",
    "\n",
    "F_x_wnn = np.sqrt(n) * U1_init_wnn[:,:k_wnn]\n",
    "G_x_wnn = np.sqrt(p_1) * V1_init_wnn.T[:,:k_wnn]\n",
    "\n",
    "F_y_wnn = np.sqrt(n) * U2_init_wnn[:,:k_2_wnn]\n",
    "G_y_wnn = np.sqrt(p_2) * V2_init_wnn.T[:,:k_2_wnn]\n",
    "\n",
    "G_wnn = G_x_wnn\n",
    "U_x_t_wnn = F_x_wnn @ sp.linalg.sqrtm(Sigma_0_x_wnn)\n",
    "\n",
    "Gbar_wnn = G_y_wnn\n",
    "U_y_t_wnn = F_y_wnn @ sp.linalg.sqrtm(Sigma_0_y_wnn)"
   ]
  },
  {
   "cell_type": "code",
   "execution_count": 41,
   "metadata": {},
   "outputs": [],
   "source": [
    "## Store Raw PC's to run WNN\n",
    "\n",
    "pc_x_for_seurat_with_pred = pd.DataFrame(F_x_wnn)\n",
    "pc_x_for_seurat_with_pred.to_csv('pc_atac_wnn.csv')\n",
    "pc_y_for_seurat_with_pred = pd.DataFrame(F_y_wnn)\n",
    "pc_y_for_seurat_with_pred.to_csv('pc_rna_wnn.csv')"
   ]
  },
  {
   "cell_type": "code",
   "execution_count": 42,
   "metadata": {},
   "outputs": [],
   "source": [
    "pc_z_for_seurat_with_pred = pd.DataFrame(U_A_adj[:,:30] @ np.diag(S_A_adj[:30]) )\n",
    "pc_z_for_seurat_with_pred.to_csv('pc_adt_wnn.csv')"
   ]
  }
 ],
 "metadata": {
  "kernelspec": {
   "display_name": "cosvdnew",
   "language": "python",
   "name": "python3"
  },
  "language_info": {
   "codemirror_mode": {
    "name": "ipython",
    "version": 3
   },
   "file_extension": ".py",
   "mimetype": "text/x-python",
   "name": "python",
   "nbconvert_exporter": "python",
   "pygments_lexer": "ipython3",
   "version": "3.9.19"
  },
  "orig_nbformat": 4
 },
 "nbformat": 4,
 "nbformat_minor": 2
}
